{
 "cells": [
  {
   "cell_type": "code",
   "execution_count": null,
   "id": "82b02039-e60f-4e18-84c8-ace02bd1c387",
   "metadata": {},
   "outputs": [],
   "source": []
  }
 ],
 "metadata": {
  "kernelspec": {
   "display_name": "",
   "name": ""
  },
  "language_info": {
   "name": ""
  }
 },
 "nbformat": 4,
 "nbformat_minor": 5
}
