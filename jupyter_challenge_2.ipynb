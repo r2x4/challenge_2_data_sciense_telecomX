{
 "cells": [
  {
   "cell_type": "markdown",
   "id": "61443cec-ab3c-4463-a634-77dc00f6ddae",
   "metadata": {},
   "source": [
    "# **Challenge 2 Data_Science**\n",
    "![Gráfico de datos](imagen_datos.jpg)"
   ]
  },
  {
   "cell_type": "markdown",
   "id": "b28f8dc8-4f6d-4c6b-b90b-60e73c73c788",
   "metadata": {},
   "source": [
    "# **Verificar Datos**"
   ]
  },
  {
   "cell_type": "code",
   "execution_count": 2,
   "id": "053db752-e026-467e-953d-39e4bb535d51",
   "metadata": {},
   "outputs": [],
   "source": [
    "# llamar los datos \n",
    "import pandas as pd\n",
    "\n",
    "url = \"https://raw.githubusercontent.com/ingridcristh/challenge2-data-science-LATAM/refs/heads/main/TelecomX_Data.json\"\n",
    "\n",
    "datos = pd.read_json(url)"
   ]
  },
  {
   "cell_type": "code",
   "execution_count": 3,
   "id": "d5ea668b-881c-425c-be7a-9c925bc254e3",
   "metadata": {},
   "outputs": [
    {
     "data": {
      "text/html": [
       "<div>\n",
       "<style scoped>\n",
       "    .dataframe tbody tr th:only-of-type {\n",
       "        vertical-align: middle;\n",
       "    }\n",
       "\n",
       "    .dataframe tbody tr th {\n",
       "        vertical-align: top;\n",
       "    }\n",
       "\n",
       "    .dataframe thead th {\n",
       "        text-align: right;\n",
       "    }\n",
       "</style>\n",
       "<table border=\"1\" class=\"dataframe\">\n",
       "  <thead>\n",
       "    <tr style=\"text-align: right;\">\n",
       "      <th></th>\n",
       "      <th>customerID</th>\n",
       "      <th>Churn</th>\n",
       "      <th>customer</th>\n",
       "      <th>phone</th>\n",
       "      <th>internet</th>\n",
       "      <th>account</th>\n",
       "    </tr>\n",
       "  </thead>\n",
       "  <tbody>\n",
       "    <tr>\n",
       "      <th>0</th>\n",
       "      <td>0002-ORFBO</td>\n",
       "      <td>No</td>\n",
       "      <td>{'gender': 'Female', 'SeniorCitizen': 0, 'Part...</td>\n",
       "      <td>{'PhoneService': 'Yes', 'MultipleLines': 'No'}</td>\n",
       "      <td>{'InternetService': 'DSL', 'OnlineSecurity': '...</td>\n",
       "      <td>{'Contract': 'One year', 'PaperlessBilling': '...</td>\n",
       "    </tr>\n",
       "    <tr>\n",
       "      <th>1</th>\n",
       "      <td>0003-MKNFE</td>\n",
       "      <td>No</td>\n",
       "      <td>{'gender': 'Male', 'SeniorCitizen': 0, 'Partne...</td>\n",
       "      <td>{'PhoneService': 'Yes', 'MultipleLines': 'Yes'}</td>\n",
       "      <td>{'InternetService': 'DSL', 'OnlineSecurity': '...</td>\n",
       "      <td>{'Contract': 'Month-to-month', 'PaperlessBilli...</td>\n",
       "    </tr>\n",
       "    <tr>\n",
       "      <th>2</th>\n",
       "      <td>0004-TLHLJ</td>\n",
       "      <td>Yes</td>\n",
       "      <td>{'gender': 'Male', 'SeniorCitizen': 0, 'Partne...</td>\n",
       "      <td>{'PhoneService': 'Yes', 'MultipleLines': 'No'}</td>\n",
       "      <td>{'InternetService': 'Fiber optic', 'OnlineSecu...</td>\n",
       "      <td>{'Contract': 'Month-to-month', 'PaperlessBilli...</td>\n",
       "    </tr>\n",
       "    <tr>\n",
       "      <th>3</th>\n",
       "      <td>0011-IGKFF</td>\n",
       "      <td>Yes</td>\n",
       "      <td>{'gender': 'Male', 'SeniorCitizen': 1, 'Partne...</td>\n",
       "      <td>{'PhoneService': 'Yes', 'MultipleLines': 'No'}</td>\n",
       "      <td>{'InternetService': 'Fiber optic', 'OnlineSecu...</td>\n",
       "      <td>{'Contract': 'Month-to-month', 'PaperlessBilli...</td>\n",
       "    </tr>\n",
       "    <tr>\n",
       "      <th>4</th>\n",
       "      <td>0013-EXCHZ</td>\n",
       "      <td>Yes</td>\n",
       "      <td>{'gender': 'Female', 'SeniorCitizen': 1, 'Part...</td>\n",
       "      <td>{'PhoneService': 'Yes', 'MultipleLines': 'No'}</td>\n",
       "      <td>{'InternetService': 'Fiber optic', 'OnlineSecu...</td>\n",
       "      <td>{'Contract': 'Month-to-month', 'PaperlessBilli...</td>\n",
       "    </tr>\n",
       "  </tbody>\n",
       "</table>\n",
       "</div>"
      ],
      "text/plain": [
       "   customerID Churn                                           customer  \\\n",
       "0  0002-ORFBO    No  {'gender': 'Female', 'SeniorCitizen': 0, 'Part...   \n",
       "1  0003-MKNFE    No  {'gender': 'Male', 'SeniorCitizen': 0, 'Partne...   \n",
       "2  0004-TLHLJ   Yes  {'gender': 'Male', 'SeniorCitizen': 0, 'Partne...   \n",
       "3  0011-IGKFF   Yes  {'gender': 'Male', 'SeniorCitizen': 1, 'Partne...   \n",
       "4  0013-EXCHZ   Yes  {'gender': 'Female', 'SeniorCitizen': 1, 'Part...   \n",
       "\n",
       "                                             phone  \\\n",
       "0   {'PhoneService': 'Yes', 'MultipleLines': 'No'}   \n",
       "1  {'PhoneService': 'Yes', 'MultipleLines': 'Yes'}   \n",
       "2   {'PhoneService': 'Yes', 'MultipleLines': 'No'}   \n",
       "3   {'PhoneService': 'Yes', 'MultipleLines': 'No'}   \n",
       "4   {'PhoneService': 'Yes', 'MultipleLines': 'No'}   \n",
       "\n",
       "                                            internet  \\\n",
       "0  {'InternetService': 'DSL', 'OnlineSecurity': '...   \n",
       "1  {'InternetService': 'DSL', 'OnlineSecurity': '...   \n",
       "2  {'InternetService': 'Fiber optic', 'OnlineSecu...   \n",
       "3  {'InternetService': 'Fiber optic', 'OnlineSecu...   \n",
       "4  {'InternetService': 'Fiber optic', 'OnlineSecu...   \n",
       "\n",
       "                                             account  \n",
       "0  {'Contract': 'One year', 'PaperlessBilling': '...  \n",
       "1  {'Contract': 'Month-to-month', 'PaperlessBilli...  \n",
       "2  {'Contract': 'Month-to-month', 'PaperlessBilli...  \n",
       "3  {'Contract': 'Month-to-month', 'PaperlessBilli...  \n",
       "4  {'Contract': 'Month-to-month', 'PaperlessBilli...  "
      ]
     },
     "execution_count": 3,
     "metadata": {},
     "output_type": "execute_result"
    }
   ],
   "source": [
    "datos.head()"
   ]
  },
  {
   "cell_type": "code",
   "execution_count": 4,
   "id": "c1f4eac6-d2a1-41f9-8d10-32846d6d220e",
   "metadata": {},
   "outputs": [
    {
     "data": {
      "text/html": [
       "<div>\n",
       "<style scoped>\n",
       "    .dataframe tbody tr th:only-of-type {\n",
       "        vertical-align: middle;\n",
       "    }\n",
       "\n",
       "    .dataframe tbody tr th {\n",
       "        vertical-align: top;\n",
       "    }\n",
       "\n",
       "    .dataframe thead th {\n",
       "        text-align: right;\n",
       "    }\n",
       "</style>\n",
       "<table border=\"1\" class=\"dataframe\">\n",
       "  <thead>\n",
       "    <tr style=\"text-align: right;\">\n",
       "      <th></th>\n",
       "      <th>customerID</th>\n",
       "      <th>Churn</th>\n",
       "      <th>customer</th>\n",
       "      <th>phone</th>\n",
       "      <th>internet</th>\n",
       "      <th>account</th>\n",
       "    </tr>\n",
       "  </thead>\n",
       "  <tbody>\n",
       "    <tr>\n",
       "      <th>7262</th>\n",
       "      <td>9987-LUTYD</td>\n",
       "      <td>No</td>\n",
       "      <td>{'gender': 'Female', 'SeniorCitizen': 0, 'Part...</td>\n",
       "      <td>{'PhoneService': 'Yes', 'MultipleLines': 'No'}</td>\n",
       "      <td>{'InternetService': 'DSL', 'OnlineSecurity': '...</td>\n",
       "      <td>{'Contract': 'One year', 'PaperlessBilling': '...</td>\n",
       "    </tr>\n",
       "    <tr>\n",
       "      <th>7263</th>\n",
       "      <td>9992-RRAMN</td>\n",
       "      <td>Yes</td>\n",
       "      <td>{'gender': 'Male', 'SeniorCitizen': 0, 'Partne...</td>\n",
       "      <td>{'PhoneService': 'Yes', 'MultipleLines': 'Yes'}</td>\n",
       "      <td>{'InternetService': 'Fiber optic', 'OnlineSecu...</td>\n",
       "      <td>{'Contract': 'Month-to-month', 'PaperlessBilli...</td>\n",
       "    </tr>\n",
       "    <tr>\n",
       "      <th>7264</th>\n",
       "      <td>9992-UJOEL</td>\n",
       "      <td>No</td>\n",
       "      <td>{'gender': 'Male', 'SeniorCitizen': 0, 'Partne...</td>\n",
       "      <td>{'PhoneService': 'Yes', 'MultipleLines': 'No'}</td>\n",
       "      <td>{'InternetService': 'DSL', 'OnlineSecurity': '...</td>\n",
       "      <td>{'Contract': 'Month-to-month', 'PaperlessBilli...</td>\n",
       "    </tr>\n",
       "    <tr>\n",
       "      <th>7265</th>\n",
       "      <td>9993-LHIEB</td>\n",
       "      <td>No</td>\n",
       "      <td>{'gender': 'Male', 'SeniorCitizen': 0, 'Partne...</td>\n",
       "      <td>{'PhoneService': 'Yes', 'MultipleLines': 'No'}</td>\n",
       "      <td>{'InternetService': 'DSL', 'OnlineSecurity': '...</td>\n",
       "      <td>{'Contract': 'Two year', 'PaperlessBilling': '...</td>\n",
       "    </tr>\n",
       "    <tr>\n",
       "      <th>7266</th>\n",
       "      <td>9995-HOTOH</td>\n",
       "      <td>No</td>\n",
       "      <td>{'gender': 'Male', 'SeniorCitizen': 0, 'Partne...</td>\n",
       "      <td>{'PhoneService': 'No', 'MultipleLines': 'No ph...</td>\n",
       "      <td>{'InternetService': 'DSL', 'OnlineSecurity': '...</td>\n",
       "      <td>{'Contract': 'Two year', 'PaperlessBilling': '...</td>\n",
       "    </tr>\n",
       "  </tbody>\n",
       "</table>\n",
       "</div>"
      ],
      "text/plain": [
       "      customerID Churn                                           customer  \\\n",
       "7262  9987-LUTYD    No  {'gender': 'Female', 'SeniorCitizen': 0, 'Part...   \n",
       "7263  9992-RRAMN   Yes  {'gender': 'Male', 'SeniorCitizen': 0, 'Partne...   \n",
       "7264  9992-UJOEL    No  {'gender': 'Male', 'SeniorCitizen': 0, 'Partne...   \n",
       "7265  9993-LHIEB    No  {'gender': 'Male', 'SeniorCitizen': 0, 'Partne...   \n",
       "7266  9995-HOTOH    No  {'gender': 'Male', 'SeniorCitizen': 0, 'Partne...   \n",
       "\n",
       "                                                  phone  \\\n",
       "7262     {'PhoneService': 'Yes', 'MultipleLines': 'No'}   \n",
       "7263    {'PhoneService': 'Yes', 'MultipleLines': 'Yes'}   \n",
       "7264     {'PhoneService': 'Yes', 'MultipleLines': 'No'}   \n",
       "7265     {'PhoneService': 'Yes', 'MultipleLines': 'No'}   \n",
       "7266  {'PhoneService': 'No', 'MultipleLines': 'No ph...   \n",
       "\n",
       "                                               internet  \\\n",
       "7262  {'InternetService': 'DSL', 'OnlineSecurity': '...   \n",
       "7263  {'InternetService': 'Fiber optic', 'OnlineSecu...   \n",
       "7264  {'InternetService': 'DSL', 'OnlineSecurity': '...   \n",
       "7265  {'InternetService': 'DSL', 'OnlineSecurity': '...   \n",
       "7266  {'InternetService': 'DSL', 'OnlineSecurity': '...   \n",
       "\n",
       "                                                account  \n",
       "7262  {'Contract': 'One year', 'PaperlessBilling': '...  \n",
       "7263  {'Contract': 'Month-to-month', 'PaperlessBilli...  \n",
       "7264  {'Contract': 'Month-to-month', 'PaperlessBilli...  \n",
       "7265  {'Contract': 'Two year', 'PaperlessBilling': '...  \n",
       "7266  {'Contract': 'Two year', 'PaperlessBilling': '...  "
      ]
     },
     "execution_count": 4,
     "metadata": {},
     "output_type": "execute_result"
    }
   ],
   "source": [
    "datos.tail()"
   ]
  },
  {
   "cell_type": "code",
   "execution_count": 5,
   "id": "4486cf47-cc02-4d66-bece-6646e14e4ca3",
   "metadata": {},
   "outputs": [
    {
     "data": {
      "text/plain": [
       "(7267, 6)"
      ]
     },
     "execution_count": 5,
     "metadata": {},
     "output_type": "execute_result"
    }
   ],
   "source": [
    "datos.shape"
   ]
  },
  {
   "cell_type": "code",
   "execution_count": 6,
   "id": "7d1daced-0efc-4997-9b43-0e708263f3e0",
   "metadata": {},
   "outputs": [
    {
     "data": {
      "text/plain": [
       "<bound method DataFrame.info of       customerID Churn                                           customer  \\\n",
       "0     0002-ORFBO    No  {'gender': 'Female', 'SeniorCitizen': 0, 'Part...   \n",
       "1     0003-MKNFE    No  {'gender': 'Male', 'SeniorCitizen': 0, 'Partne...   \n",
       "2     0004-TLHLJ   Yes  {'gender': 'Male', 'SeniorCitizen': 0, 'Partne...   \n",
       "3     0011-IGKFF   Yes  {'gender': 'Male', 'SeniorCitizen': 1, 'Partne...   \n",
       "4     0013-EXCHZ   Yes  {'gender': 'Female', 'SeniorCitizen': 1, 'Part...   \n",
       "...          ...   ...                                                ...   \n",
       "7262  9987-LUTYD    No  {'gender': 'Female', 'SeniorCitizen': 0, 'Part...   \n",
       "7263  9992-RRAMN   Yes  {'gender': 'Male', 'SeniorCitizen': 0, 'Partne...   \n",
       "7264  9992-UJOEL    No  {'gender': 'Male', 'SeniorCitizen': 0, 'Partne...   \n",
       "7265  9993-LHIEB    No  {'gender': 'Male', 'SeniorCitizen': 0, 'Partne...   \n",
       "7266  9995-HOTOH    No  {'gender': 'Male', 'SeniorCitizen': 0, 'Partne...   \n",
       "\n",
       "                                                  phone  \\\n",
       "0        {'PhoneService': 'Yes', 'MultipleLines': 'No'}   \n",
       "1       {'PhoneService': 'Yes', 'MultipleLines': 'Yes'}   \n",
       "2        {'PhoneService': 'Yes', 'MultipleLines': 'No'}   \n",
       "3        {'PhoneService': 'Yes', 'MultipleLines': 'No'}   \n",
       "4        {'PhoneService': 'Yes', 'MultipleLines': 'No'}   \n",
       "...                                                 ...   \n",
       "7262     {'PhoneService': 'Yes', 'MultipleLines': 'No'}   \n",
       "7263    {'PhoneService': 'Yes', 'MultipleLines': 'Yes'}   \n",
       "7264     {'PhoneService': 'Yes', 'MultipleLines': 'No'}   \n",
       "7265     {'PhoneService': 'Yes', 'MultipleLines': 'No'}   \n",
       "7266  {'PhoneService': 'No', 'MultipleLines': 'No ph...   \n",
       "\n",
       "                                               internet  \\\n",
       "0     {'InternetService': 'DSL', 'OnlineSecurity': '...   \n",
       "1     {'InternetService': 'DSL', 'OnlineSecurity': '...   \n",
       "2     {'InternetService': 'Fiber optic', 'OnlineSecu...   \n",
       "3     {'InternetService': 'Fiber optic', 'OnlineSecu...   \n",
       "4     {'InternetService': 'Fiber optic', 'OnlineSecu...   \n",
       "...                                                 ...   \n",
       "7262  {'InternetService': 'DSL', 'OnlineSecurity': '...   \n",
       "7263  {'InternetService': 'Fiber optic', 'OnlineSecu...   \n",
       "7264  {'InternetService': 'DSL', 'OnlineSecurity': '...   \n",
       "7265  {'InternetService': 'DSL', 'OnlineSecurity': '...   \n",
       "7266  {'InternetService': 'DSL', 'OnlineSecurity': '...   \n",
       "\n",
       "                                                account  \n",
       "0     {'Contract': 'One year', 'PaperlessBilling': '...  \n",
       "1     {'Contract': 'Month-to-month', 'PaperlessBilli...  \n",
       "2     {'Contract': 'Month-to-month', 'PaperlessBilli...  \n",
       "3     {'Contract': 'Month-to-month', 'PaperlessBilli...  \n",
       "4     {'Contract': 'Month-to-month', 'PaperlessBilli...  \n",
       "...                                                 ...  \n",
       "7262  {'Contract': 'One year', 'PaperlessBilling': '...  \n",
       "7263  {'Contract': 'Month-to-month', 'PaperlessBilli...  \n",
       "7264  {'Contract': 'Month-to-month', 'PaperlessBilli...  \n",
       "7265  {'Contract': 'Two year', 'PaperlessBilling': '...  \n",
       "7266  {'Contract': 'Two year', 'PaperlessBilling': '...  \n",
       "\n",
       "[7267 rows x 6 columns]>"
      ]
     },
     "execution_count": 6,
     "metadata": {},
     "output_type": "execute_result"
    }
   ],
   "source": [
    "datos.info"
   ]
  },
  {
   "cell_type": "code",
   "execution_count": 7,
   "id": "9a149b96-1098-4b03-97cc-4bbb647b47a1",
   "metadata": {},
   "outputs": [
    {
     "data": {
      "text/html": [
       "<div>\n",
       "<style scoped>\n",
       "    .dataframe tbody tr th:only-of-type {\n",
       "        vertical-align: middle;\n",
       "    }\n",
       "\n",
       "    .dataframe tbody tr th {\n",
       "        vertical-align: top;\n",
       "    }\n",
       "\n",
       "    .dataframe thead th {\n",
       "        text-align: right;\n",
       "    }\n",
       "</style>\n",
       "<table border=\"1\" class=\"dataframe\">\n",
       "  <thead>\n",
       "    <tr style=\"text-align: right;\">\n",
       "      <th></th>\n",
       "      <th>customerID</th>\n",
       "      <th>Churn</th>\n",
       "      <th>customer</th>\n",
       "      <th>phone</th>\n",
       "      <th>internet</th>\n",
       "      <th>account</th>\n",
       "    </tr>\n",
       "  </thead>\n",
       "  <tbody>\n",
       "    <tr>\n",
       "      <th>count</th>\n",
       "      <td>7267</td>\n",
       "      <td>7267</td>\n",
       "      <td>7267</td>\n",
       "      <td>7267</td>\n",
       "      <td>7267</td>\n",
       "      <td>7267</td>\n",
       "    </tr>\n",
       "    <tr>\n",
       "      <th>unique</th>\n",
       "      <td>7267</td>\n",
       "      <td>3</td>\n",
       "      <td>891</td>\n",
       "      <td>3</td>\n",
       "      <td>129</td>\n",
       "      <td>6931</td>\n",
       "    </tr>\n",
       "    <tr>\n",
       "      <th>top</th>\n",
       "      <td>0002-ORFBO</td>\n",
       "      <td>No</td>\n",
       "      <td>{'gender': 'Male', 'SeniorCitizen': 0, 'Partne...</td>\n",
       "      <td>{'PhoneService': 'Yes', 'MultipleLines': 'No'}</td>\n",
       "      <td>{'InternetService': 'No', 'OnlineSecurity': 'N...</td>\n",
       "      <td>{'Contract': 'Month-to-month', 'PaperlessBilli...</td>\n",
       "    </tr>\n",
       "    <tr>\n",
       "      <th>freq</th>\n",
       "      <td>1</td>\n",
       "      <td>5174</td>\n",
       "      <td>223</td>\n",
       "      <td>3495</td>\n",
       "      <td>1581</td>\n",
       "      <td>6</td>\n",
       "    </tr>\n",
       "  </tbody>\n",
       "</table>\n",
       "</div>"
      ],
      "text/plain": [
       "        customerID Churn                                           customer  \\\n",
       "count         7267  7267                                               7267   \n",
       "unique        7267     3                                                891   \n",
       "top     0002-ORFBO    No  {'gender': 'Male', 'SeniorCitizen': 0, 'Partne...   \n",
       "freq             1  5174                                                223   \n",
       "\n",
       "                                                 phone  \\\n",
       "count                                             7267   \n",
       "unique                                               3   \n",
       "top     {'PhoneService': 'Yes', 'MultipleLines': 'No'}   \n",
       "freq                                              3495   \n",
       "\n",
       "                                                 internet  \\\n",
       "count                                                7267   \n",
       "unique                                                129   \n",
       "top     {'InternetService': 'No', 'OnlineSecurity': 'N...   \n",
       "freq                                                 1581   \n",
       "\n",
       "                                                  account  \n",
       "count                                                7267  \n",
       "unique                                               6931  \n",
       "top     {'Contract': 'Month-to-month', 'PaperlessBilli...  \n",
       "freq                                                    6  "
      ]
     },
     "execution_count": 7,
     "metadata": {},
     "output_type": "execute_result"
    }
   ],
   "source": [
    "datos.describe()"
   ]
  },
  {
   "cell_type": "code",
   "execution_count": 8,
   "id": "04eb1d7d-3a87-40da-9d46-ec31a87e695e",
   "metadata": {},
   "outputs": [
    {
     "data": {
      "text/plain": [
       "pandas.core.frame.DataFrame"
      ]
     },
     "execution_count": 8,
     "metadata": {},
     "output_type": "execute_result"
    }
   ],
   "source": [
    "type(datos)"
   ]
  },
  {
   "cell_type": "code",
   "execution_count": 10,
   "id": "dabbd9cf-3ae6-40b5-bd8f-a2e42c1f4330",
   "metadata": {},
   "outputs": [
    {
     "data": {
      "text/plain": [
       "customerID    object\n",
       "Churn         object\n",
       "customer      object\n",
       "phone         object\n",
       "internet      object\n",
       "account       object\n",
       "dtype: object"
      ]
     },
     "execution_count": 10,
     "metadata": {},
     "output_type": "execute_result"
    }
   ],
   "source": [
    "datos.dtypes"
   ]
  },
  {
   "cell_type": "code",
   "execution_count": null,
   "id": "f286d5a1-3212-43f6-b0da-f87896eeb3f6",
   "metadata": {},
   "outputs": [],
   "source": []
  }
 ],
 "metadata": {
  "kernelspec": {
   "display_name": "Python 3 (ipykernel)",
   "language": "python",
   "name": "python3"
  },
  "language_info": {
   "codemirror_mode": {
    "name": "ipython",
    "version": 3
   },
   "file_extension": ".py",
   "mimetype": "text/x-python",
   "name": "python",
   "nbconvert_exporter": "python",
   "pygments_lexer": "ipython3",
   "version": "3.12.7"
  }
 },
 "nbformat": 4,
 "nbformat_minor": 5
}
