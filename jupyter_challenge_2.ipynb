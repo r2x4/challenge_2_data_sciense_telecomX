{
 "cells": [
  {
   "cell_type": "markdown",
   "id": "61443cec-ab3c-4463-a634-77dc00f6ddae",
   "metadata": {},
   "source": [
    "![Gráfico de datos](imagen_datos.jpg)\n"
   ]
  },
  {
   "cell_type": "code",
   "execution_count": null,
   "id": "053db752-e026-467e-953d-39e4bb535d51",
   "metadata": {},
   "outputs": [],
   "source": []
  }
 ],
 "metadata": {
  "kernelspec": {
   "display_name": "Python 3 (ipykernel)",
   "language": "python",
   "name": "python3"
  },
  "language_info": {
   "codemirror_mode": {
    "name": "ipython",
    "version": 3
   },
   "file_extension": ".py",
   "mimetype": "text/x-python",
   "name": "python",
   "nbconvert_exporter": "python",
   "pygments_lexer": "ipython3",
   "version": "3.12.7"
  }
 },
 "nbformat": 4,
 "nbformat_minor": 5
}
