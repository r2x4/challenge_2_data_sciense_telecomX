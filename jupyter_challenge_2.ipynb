{
 "cells": [
  {
   "cell_type": "markdown",
   "id": "61443cec-ab3c-4463-a634-77dc00f6ddae",
   "metadata": {},
   "source": [
    "# **Challenge 2 Data_Science**\n",
    "![Gráfico de datos](imagen_datos.jpg)"
   ]
  },
  {
   "cell_type": "markdown",
   "id": "b28f8dc8-4f6d-4c6b-b90b-60e73c73c788",
   "metadata": {},
   "source": [
    "# **Importar Datos**"
   ]
  },
  {
   "cell_type": "code",
   "execution_count": 1,
   "id": "053db752-e026-467e-953d-39e4bb535d51",
   "metadata": {},
   "outputs": [],
   "source": [
    "# llamar los datos\n",
    "import pandas as pd\n",
    "import numpy as np\n",
    "import requests\n",
    "\n",
    "url = \"https://raw.githubusercontent.com/ingridcristh/challenge2-data-science-LATAM/refs/heads/main/TelecomX_Data.json\"\n",
    "response = requests.get(url)\n",
    "df = response.json()"
   ]
  },
  {
   "cell_type": "code",
   "execution_count": 2,
   "id": "c753000b-ee6e-493d-b8b5-c10ec104d2dc",
   "metadata": {},
   "outputs": [],
   "source": [
    "datos = pd.json_normalize(df, sep='_')"
   ]
  },
  {
   "cell_type": "code",
   "execution_count": 3,
   "id": "d5ea668b-881c-425c-be7a-9c925bc254e3",
   "metadata": {},
   "outputs": [
    {
     "data": {
      "text/html": [
       "<div>\n",
       "<style scoped>\n",
       "    .dataframe tbody tr th:only-of-type {\n",
       "        vertical-align: middle;\n",
       "    }\n",
       "\n",
       "    .dataframe tbody tr th {\n",
       "        vertical-align: top;\n",
       "    }\n",
       "\n",
       "    .dataframe thead th {\n",
       "        text-align: right;\n",
       "    }\n",
       "</style>\n",
       "<table border=\"1\" class=\"dataframe\">\n",
       "  <thead>\n",
       "    <tr style=\"text-align: right;\">\n",
       "      <th></th>\n",
       "      <th>customerID</th>\n",
       "      <th>Churn</th>\n",
       "      <th>customer_gender</th>\n",
       "      <th>customer_SeniorCitizen</th>\n",
       "      <th>customer_Partner</th>\n",
       "      <th>customer_Dependents</th>\n",
       "      <th>customer_tenure</th>\n",
       "      <th>phone_PhoneService</th>\n",
       "      <th>phone_MultipleLines</th>\n",
       "      <th>internet_InternetService</th>\n",
       "      <th>...</th>\n",
       "      <th>internet_OnlineBackup</th>\n",
       "      <th>internet_DeviceProtection</th>\n",
       "      <th>internet_TechSupport</th>\n",
       "      <th>internet_StreamingTV</th>\n",
       "      <th>internet_StreamingMovies</th>\n",
       "      <th>account_Contract</th>\n",
       "      <th>account_PaperlessBilling</th>\n",
       "      <th>account_PaymentMethod</th>\n",
       "      <th>account_Charges_Monthly</th>\n",
       "      <th>account_Charges_Total</th>\n",
       "    </tr>\n",
       "  </thead>\n",
       "  <tbody>\n",
       "    <tr>\n",
       "      <th>0</th>\n",
       "      <td>0002-ORFBO</td>\n",
       "      <td>No</td>\n",
       "      <td>Female</td>\n",
       "      <td>0</td>\n",
       "      <td>Yes</td>\n",
       "      <td>Yes</td>\n",
       "      <td>9</td>\n",
       "      <td>Yes</td>\n",
       "      <td>No</td>\n",
       "      <td>DSL</td>\n",
       "      <td>...</td>\n",
       "      <td>Yes</td>\n",
       "      <td>No</td>\n",
       "      <td>Yes</td>\n",
       "      <td>Yes</td>\n",
       "      <td>No</td>\n",
       "      <td>One year</td>\n",
       "      <td>Yes</td>\n",
       "      <td>Mailed check</td>\n",
       "      <td>65.6</td>\n",
       "      <td>593.3</td>\n",
       "    </tr>\n",
       "    <tr>\n",
       "      <th>1</th>\n",
       "      <td>0003-MKNFE</td>\n",
       "      <td>No</td>\n",
       "      <td>Male</td>\n",
       "      <td>0</td>\n",
       "      <td>No</td>\n",
       "      <td>No</td>\n",
       "      <td>9</td>\n",
       "      <td>Yes</td>\n",
       "      <td>Yes</td>\n",
       "      <td>DSL</td>\n",
       "      <td>...</td>\n",
       "      <td>No</td>\n",
       "      <td>No</td>\n",
       "      <td>No</td>\n",
       "      <td>No</td>\n",
       "      <td>Yes</td>\n",
       "      <td>Month-to-month</td>\n",
       "      <td>No</td>\n",
       "      <td>Mailed check</td>\n",
       "      <td>59.9</td>\n",
       "      <td>542.4</td>\n",
       "    </tr>\n",
       "    <tr>\n",
       "      <th>2</th>\n",
       "      <td>0004-TLHLJ</td>\n",
       "      <td>Yes</td>\n",
       "      <td>Male</td>\n",
       "      <td>0</td>\n",
       "      <td>No</td>\n",
       "      <td>No</td>\n",
       "      <td>4</td>\n",
       "      <td>Yes</td>\n",
       "      <td>No</td>\n",
       "      <td>Fiber optic</td>\n",
       "      <td>...</td>\n",
       "      <td>No</td>\n",
       "      <td>Yes</td>\n",
       "      <td>No</td>\n",
       "      <td>No</td>\n",
       "      <td>No</td>\n",
       "      <td>Month-to-month</td>\n",
       "      <td>Yes</td>\n",
       "      <td>Electronic check</td>\n",
       "      <td>73.9</td>\n",
       "      <td>280.85</td>\n",
       "    </tr>\n",
       "    <tr>\n",
       "      <th>3</th>\n",
       "      <td>0011-IGKFF</td>\n",
       "      <td>Yes</td>\n",
       "      <td>Male</td>\n",
       "      <td>1</td>\n",
       "      <td>Yes</td>\n",
       "      <td>No</td>\n",
       "      <td>13</td>\n",
       "      <td>Yes</td>\n",
       "      <td>No</td>\n",
       "      <td>Fiber optic</td>\n",
       "      <td>...</td>\n",
       "      <td>Yes</td>\n",
       "      <td>Yes</td>\n",
       "      <td>No</td>\n",
       "      <td>Yes</td>\n",
       "      <td>Yes</td>\n",
       "      <td>Month-to-month</td>\n",
       "      <td>Yes</td>\n",
       "      <td>Electronic check</td>\n",
       "      <td>98.0</td>\n",
       "      <td>1237.85</td>\n",
       "    </tr>\n",
       "    <tr>\n",
       "      <th>4</th>\n",
       "      <td>0013-EXCHZ</td>\n",
       "      <td>Yes</td>\n",
       "      <td>Female</td>\n",
       "      <td>1</td>\n",
       "      <td>Yes</td>\n",
       "      <td>No</td>\n",
       "      <td>3</td>\n",
       "      <td>Yes</td>\n",
       "      <td>No</td>\n",
       "      <td>Fiber optic</td>\n",
       "      <td>...</td>\n",
       "      <td>No</td>\n",
       "      <td>No</td>\n",
       "      <td>Yes</td>\n",
       "      <td>Yes</td>\n",
       "      <td>No</td>\n",
       "      <td>Month-to-month</td>\n",
       "      <td>Yes</td>\n",
       "      <td>Mailed check</td>\n",
       "      <td>83.9</td>\n",
       "      <td>267.4</td>\n",
       "    </tr>\n",
       "  </tbody>\n",
       "</table>\n",
       "<p>5 rows × 21 columns</p>\n",
       "</div>"
      ],
      "text/plain": [
       "   customerID Churn customer_gender  customer_SeniorCitizen customer_Partner  \\\n",
       "0  0002-ORFBO    No          Female                       0              Yes   \n",
       "1  0003-MKNFE    No            Male                       0               No   \n",
       "2  0004-TLHLJ   Yes            Male                       0               No   \n",
       "3  0011-IGKFF   Yes            Male                       1              Yes   \n",
       "4  0013-EXCHZ   Yes          Female                       1              Yes   \n",
       "\n",
       "  customer_Dependents  customer_tenure phone_PhoneService phone_MultipleLines  \\\n",
       "0                 Yes                9                Yes                  No   \n",
       "1                  No                9                Yes                 Yes   \n",
       "2                  No                4                Yes                  No   \n",
       "3                  No               13                Yes                  No   \n",
       "4                  No                3                Yes                  No   \n",
       "\n",
       "  internet_InternetService  ... internet_OnlineBackup  \\\n",
       "0                      DSL  ...                   Yes   \n",
       "1                      DSL  ...                    No   \n",
       "2              Fiber optic  ...                    No   \n",
       "3              Fiber optic  ...                   Yes   \n",
       "4              Fiber optic  ...                    No   \n",
       "\n",
       "  internet_DeviceProtection internet_TechSupport internet_StreamingTV  \\\n",
       "0                        No                  Yes                  Yes   \n",
       "1                        No                   No                   No   \n",
       "2                       Yes                   No                   No   \n",
       "3                       Yes                   No                  Yes   \n",
       "4                        No                  Yes                  Yes   \n",
       "\n",
       "  internet_StreamingMovies account_Contract account_PaperlessBilling  \\\n",
       "0                       No         One year                      Yes   \n",
       "1                      Yes   Month-to-month                       No   \n",
       "2                       No   Month-to-month                      Yes   \n",
       "3                      Yes   Month-to-month                      Yes   \n",
       "4                       No   Month-to-month                      Yes   \n",
       "\n",
       "  account_PaymentMethod account_Charges_Monthly  account_Charges_Total  \n",
       "0          Mailed check                    65.6                  593.3  \n",
       "1          Mailed check                    59.9                  542.4  \n",
       "2      Electronic check                    73.9                 280.85  \n",
       "3      Electronic check                    98.0                1237.85  \n",
       "4          Mailed check                    83.9                  267.4  \n",
       "\n",
       "[5 rows x 21 columns]"
      ]
     },
     "execution_count": 3,
     "metadata": {},
     "output_type": "execute_result"
    }
   ],
   "source": [
    "datos.head()"
   ]
  },
  {
   "cell_type": "code",
   "execution_count": 4,
   "id": "c1f4eac6-d2a1-41f9-8d10-32846d6d220e",
   "metadata": {},
   "outputs": [
    {
     "data": {
      "text/html": [
       "<div>\n",
       "<style scoped>\n",
       "    .dataframe tbody tr th:only-of-type {\n",
       "        vertical-align: middle;\n",
       "    }\n",
       "\n",
       "    .dataframe tbody tr th {\n",
       "        vertical-align: top;\n",
       "    }\n",
       "\n",
       "    .dataframe thead th {\n",
       "        text-align: right;\n",
       "    }\n",
       "</style>\n",
       "<table border=\"1\" class=\"dataframe\">\n",
       "  <thead>\n",
       "    <tr style=\"text-align: right;\">\n",
       "      <th></th>\n",
       "      <th>customerID</th>\n",
       "      <th>Churn</th>\n",
       "      <th>customer_gender</th>\n",
       "      <th>customer_SeniorCitizen</th>\n",
       "      <th>customer_Partner</th>\n",
       "      <th>customer_Dependents</th>\n",
       "      <th>customer_tenure</th>\n",
       "      <th>phone_PhoneService</th>\n",
       "      <th>phone_MultipleLines</th>\n",
       "      <th>internet_InternetService</th>\n",
       "      <th>...</th>\n",
       "      <th>internet_OnlineBackup</th>\n",
       "      <th>internet_DeviceProtection</th>\n",
       "      <th>internet_TechSupport</th>\n",
       "      <th>internet_StreamingTV</th>\n",
       "      <th>internet_StreamingMovies</th>\n",
       "      <th>account_Contract</th>\n",
       "      <th>account_PaperlessBilling</th>\n",
       "      <th>account_PaymentMethod</th>\n",
       "      <th>account_Charges_Monthly</th>\n",
       "      <th>account_Charges_Total</th>\n",
       "    </tr>\n",
       "  </thead>\n",
       "  <tbody>\n",
       "    <tr>\n",
       "      <th>7262</th>\n",
       "      <td>9987-LUTYD</td>\n",
       "      <td>No</td>\n",
       "      <td>Female</td>\n",
       "      <td>0</td>\n",
       "      <td>No</td>\n",
       "      <td>No</td>\n",
       "      <td>13</td>\n",
       "      <td>Yes</td>\n",
       "      <td>No</td>\n",
       "      <td>DSL</td>\n",
       "      <td>...</td>\n",
       "      <td>No</td>\n",
       "      <td>No</td>\n",
       "      <td>Yes</td>\n",
       "      <td>No</td>\n",
       "      <td>No</td>\n",
       "      <td>One year</td>\n",
       "      <td>No</td>\n",
       "      <td>Mailed check</td>\n",
       "      <td>55.15</td>\n",
       "      <td>742.9</td>\n",
       "    </tr>\n",
       "    <tr>\n",
       "      <th>7263</th>\n",
       "      <td>9992-RRAMN</td>\n",
       "      <td>Yes</td>\n",
       "      <td>Male</td>\n",
       "      <td>0</td>\n",
       "      <td>Yes</td>\n",
       "      <td>No</td>\n",
       "      <td>22</td>\n",
       "      <td>Yes</td>\n",
       "      <td>Yes</td>\n",
       "      <td>Fiber optic</td>\n",
       "      <td>...</td>\n",
       "      <td>No</td>\n",
       "      <td>No</td>\n",
       "      <td>No</td>\n",
       "      <td>No</td>\n",
       "      <td>Yes</td>\n",
       "      <td>Month-to-month</td>\n",
       "      <td>Yes</td>\n",
       "      <td>Electronic check</td>\n",
       "      <td>85.10</td>\n",
       "      <td>1873.7</td>\n",
       "    </tr>\n",
       "    <tr>\n",
       "      <th>7264</th>\n",
       "      <td>9992-UJOEL</td>\n",
       "      <td>No</td>\n",
       "      <td>Male</td>\n",
       "      <td>0</td>\n",
       "      <td>No</td>\n",
       "      <td>No</td>\n",
       "      <td>2</td>\n",
       "      <td>Yes</td>\n",
       "      <td>No</td>\n",
       "      <td>DSL</td>\n",
       "      <td>...</td>\n",
       "      <td>Yes</td>\n",
       "      <td>No</td>\n",
       "      <td>No</td>\n",
       "      <td>No</td>\n",
       "      <td>No</td>\n",
       "      <td>Month-to-month</td>\n",
       "      <td>Yes</td>\n",
       "      <td>Mailed check</td>\n",
       "      <td>50.30</td>\n",
       "      <td>92.75</td>\n",
       "    </tr>\n",
       "    <tr>\n",
       "      <th>7265</th>\n",
       "      <td>9993-LHIEB</td>\n",
       "      <td>No</td>\n",
       "      <td>Male</td>\n",
       "      <td>0</td>\n",
       "      <td>Yes</td>\n",
       "      <td>Yes</td>\n",
       "      <td>67</td>\n",
       "      <td>Yes</td>\n",
       "      <td>No</td>\n",
       "      <td>DSL</td>\n",
       "      <td>...</td>\n",
       "      <td>No</td>\n",
       "      <td>Yes</td>\n",
       "      <td>Yes</td>\n",
       "      <td>No</td>\n",
       "      <td>Yes</td>\n",
       "      <td>Two year</td>\n",
       "      <td>No</td>\n",
       "      <td>Mailed check</td>\n",
       "      <td>67.85</td>\n",
       "      <td>4627.65</td>\n",
       "    </tr>\n",
       "    <tr>\n",
       "      <th>7266</th>\n",
       "      <td>9995-HOTOH</td>\n",
       "      <td>No</td>\n",
       "      <td>Male</td>\n",
       "      <td>0</td>\n",
       "      <td>Yes</td>\n",
       "      <td>Yes</td>\n",
       "      <td>63</td>\n",
       "      <td>No</td>\n",
       "      <td>No phone service</td>\n",
       "      <td>DSL</td>\n",
       "      <td>...</td>\n",
       "      <td>Yes</td>\n",
       "      <td>Yes</td>\n",
       "      <td>No</td>\n",
       "      <td>Yes</td>\n",
       "      <td>Yes</td>\n",
       "      <td>Two year</td>\n",
       "      <td>No</td>\n",
       "      <td>Electronic check</td>\n",
       "      <td>59.00</td>\n",
       "      <td>3707.6</td>\n",
       "    </tr>\n",
       "  </tbody>\n",
       "</table>\n",
       "<p>5 rows × 21 columns</p>\n",
       "</div>"
      ],
      "text/plain": [
       "      customerID Churn customer_gender  customer_SeniorCitizen  \\\n",
       "7262  9987-LUTYD    No          Female                       0   \n",
       "7263  9992-RRAMN   Yes            Male                       0   \n",
       "7264  9992-UJOEL    No            Male                       0   \n",
       "7265  9993-LHIEB    No            Male                       0   \n",
       "7266  9995-HOTOH    No            Male                       0   \n",
       "\n",
       "     customer_Partner customer_Dependents  customer_tenure phone_PhoneService  \\\n",
       "7262               No                  No               13                Yes   \n",
       "7263              Yes                  No               22                Yes   \n",
       "7264               No                  No                2                Yes   \n",
       "7265              Yes                 Yes               67                Yes   \n",
       "7266              Yes                 Yes               63                 No   \n",
       "\n",
       "     phone_MultipleLines internet_InternetService  ... internet_OnlineBackup  \\\n",
       "7262                  No                      DSL  ...                    No   \n",
       "7263                 Yes              Fiber optic  ...                    No   \n",
       "7264                  No                      DSL  ...                   Yes   \n",
       "7265                  No                      DSL  ...                    No   \n",
       "7266    No phone service                      DSL  ...                   Yes   \n",
       "\n",
       "     internet_DeviceProtection internet_TechSupport internet_StreamingTV  \\\n",
       "7262                        No                  Yes                   No   \n",
       "7263                        No                   No                   No   \n",
       "7264                        No                   No                   No   \n",
       "7265                       Yes                  Yes                   No   \n",
       "7266                       Yes                   No                  Yes   \n",
       "\n",
       "     internet_StreamingMovies account_Contract account_PaperlessBilling  \\\n",
       "7262                       No         One year                       No   \n",
       "7263                      Yes   Month-to-month                      Yes   \n",
       "7264                       No   Month-to-month                      Yes   \n",
       "7265                      Yes         Two year                       No   \n",
       "7266                      Yes         Two year                       No   \n",
       "\n",
       "     account_PaymentMethod account_Charges_Monthly  account_Charges_Total  \n",
       "7262          Mailed check                   55.15                  742.9  \n",
       "7263      Electronic check                   85.10                 1873.7  \n",
       "7264          Mailed check                   50.30                  92.75  \n",
       "7265          Mailed check                   67.85                4627.65  \n",
       "7266      Electronic check                   59.00                 3707.6  \n",
       "\n",
       "[5 rows x 21 columns]"
      ]
     },
     "execution_count": 4,
     "metadata": {},
     "output_type": "execute_result"
    }
   ],
   "source": [
    "datos.tail()"
   ]
  },
  {
   "cell_type": "code",
   "execution_count": 5,
   "id": "4486cf47-cc02-4d66-bece-6646e14e4ca3",
   "metadata": {},
   "outputs": [
    {
     "data": {
      "text/plain": [
       "(7267, 21)"
      ]
     },
     "execution_count": 5,
     "metadata": {},
     "output_type": "execute_result"
    }
   ],
   "source": [
    "datos.shape"
   ]
  },
  {
   "cell_type": "code",
   "execution_count": 6,
   "id": "7d1daced-0efc-4997-9b43-0e708263f3e0",
   "metadata": {},
   "outputs": [
    {
     "data": {
      "text/plain": [
       "Index(['customerID', 'Churn', 'customer_gender', 'customer_SeniorCitizen',\n",
       "       'customer_Partner', 'customer_Dependents', 'customer_tenure',\n",
       "       'phone_PhoneService', 'phone_MultipleLines', 'internet_InternetService',\n",
       "       'internet_OnlineSecurity', 'internet_OnlineBackup',\n",
       "       'internet_DeviceProtection', 'internet_TechSupport',\n",
       "       'internet_StreamingTV', 'internet_StreamingMovies', 'account_Contract',\n",
       "       'account_PaperlessBilling', 'account_PaymentMethod',\n",
       "       'account_Charges_Monthly', 'account_Charges_Total'],\n",
       "      dtype='object')"
      ]
     },
     "execution_count": 6,
     "metadata": {},
     "output_type": "execute_result"
    }
   ],
   "source": [
    "datos.columns"
   ]
  },
  {
   "cell_type": "code",
   "execution_count": 7,
   "id": "9a149b96-1098-4b03-97cc-4bbb647b47a1",
   "metadata": {},
   "outputs": [
    {
     "data": {
      "text/plain": [
       "customerID                   0\n",
       "Churn                        0\n",
       "customer_gender              0\n",
       "customer_SeniorCitizen       0\n",
       "customer_Partner             0\n",
       "customer_Dependents          0\n",
       "customer_tenure              0\n",
       "phone_PhoneService           0\n",
       "phone_MultipleLines          0\n",
       "internet_InternetService     0\n",
       "internet_OnlineSecurity      0\n",
       "internet_OnlineBackup        0\n",
       "internet_DeviceProtection    0\n",
       "internet_TechSupport         0\n",
       "internet_StreamingTV         0\n",
       "internet_StreamingMovies     0\n",
       "account_Contract             0\n",
       "account_PaperlessBilling     0\n",
       "account_PaymentMethod        0\n",
       "account_Charges_Monthly      0\n",
       "account_Charges_Total        0\n",
       "dtype: int64"
      ]
     },
     "execution_count": 7,
     "metadata": {},
     "output_type": "execute_result"
    }
   ],
   "source": [
    "datos.isnull().sum()"
   ]
  },
  {
   "cell_type": "code",
   "execution_count": 8,
   "id": "04eb1d7d-3a87-40da-9d46-ec31a87e695e",
   "metadata": {},
   "outputs": [
    {
     "data": {
      "text/plain": [
       "pandas.core.frame.DataFrame"
      ]
     },
     "execution_count": 8,
     "metadata": {},
     "output_type": "execute_result"
    }
   ],
   "source": [
    "type(datos)"
   ]
  },
  {
   "cell_type": "code",
   "execution_count": 9,
   "id": "eb55b3b0-22ad-4663-99ee-11c4d4ac9c32",
   "metadata": {},
   "outputs": [
    {
     "data": {
      "text/html": [
       "<div>\n",
       "<style scoped>\n",
       "    .dataframe tbody tr th:only-of-type {\n",
       "        vertical-align: middle;\n",
       "    }\n",
       "\n",
       "    .dataframe tbody tr th {\n",
       "        vertical-align: top;\n",
       "    }\n",
       "\n",
       "    .dataframe thead th {\n",
       "        text-align: right;\n",
       "    }\n",
       "</style>\n",
       "<table border=\"1\" class=\"dataframe\">\n",
       "  <thead>\n",
       "    <tr style=\"text-align: right;\">\n",
       "      <th></th>\n",
       "      <th>customerID</th>\n",
       "      <th>Churn</th>\n",
       "      <th>customer_gender</th>\n",
       "      <th>customer_SeniorCitizen</th>\n",
       "      <th>customer_Partner</th>\n",
       "      <th>customer_Dependents</th>\n",
       "      <th>customer_tenure</th>\n",
       "      <th>phone_PhoneService</th>\n",
       "      <th>phone_MultipleLines</th>\n",
       "      <th>internet_InternetService</th>\n",
       "      <th>...</th>\n",
       "      <th>internet_OnlineBackup</th>\n",
       "      <th>internet_DeviceProtection</th>\n",
       "      <th>internet_TechSupport</th>\n",
       "      <th>internet_StreamingTV</th>\n",
       "      <th>internet_StreamingMovies</th>\n",
       "      <th>account_Contract</th>\n",
       "      <th>account_PaperlessBilling</th>\n",
       "      <th>account_PaymentMethod</th>\n",
       "      <th>account_Charges_Monthly</th>\n",
       "      <th>account_Charges_Total</th>\n",
       "    </tr>\n",
       "  </thead>\n",
       "  <tbody>\n",
       "  </tbody>\n",
       "</table>\n",
       "<p>0 rows × 21 columns</p>\n",
       "</div>"
      ],
      "text/plain": [
       "Empty DataFrame\n",
       "Columns: [customerID, Churn, customer_gender, customer_SeniorCitizen, customer_Partner, customer_Dependents, customer_tenure, phone_PhoneService, phone_MultipleLines, internet_InternetService, internet_OnlineSecurity, internet_OnlineBackup, internet_DeviceProtection, internet_TechSupport, internet_StreamingTV, internet_StreamingMovies, account_Contract, account_PaperlessBilling, account_PaymentMethod, account_Charges_Monthly, account_Charges_Total]\n",
       "Index: []\n",
       "\n",
       "[0 rows x 21 columns]"
      ]
     },
     "execution_count": 9,
     "metadata": {},
     "output_type": "execute_result"
    }
   ],
   "source": [
    "# ver si hay duplicados\n",
    "datos_duplicados = datos[datos.duplicated()]\n",
    "datos_duplicados"
   ]
  },
  {
   "cell_type": "code",
   "execution_count": 10,
   "id": "dabbd9cf-3ae6-40b5-bd8f-a2e42c1f4330",
   "metadata": {},
   "outputs": [
    {
     "data": {
      "text/plain": [
       "customerID                    object\n",
       "Churn                         object\n",
       "customer_gender               object\n",
       "customer_SeniorCitizen         int64\n",
       "customer_Partner              object\n",
       "customer_Dependents           object\n",
       "customer_tenure                int64\n",
       "phone_PhoneService            object\n",
       "phone_MultipleLines           object\n",
       "internet_InternetService      object\n",
       "internet_OnlineSecurity       object\n",
       "internet_OnlineBackup         object\n",
       "internet_DeviceProtection     object\n",
       "internet_TechSupport          object\n",
       "internet_StreamingTV          object\n",
       "internet_StreamingMovies      object\n",
       "account_Contract              object\n",
       "account_PaperlessBilling      object\n",
       "account_PaymentMethod         object\n",
       "account_Charges_Monthly      float64\n",
       "account_Charges_Total         object\n",
       "dtype: object"
      ]
     },
     "execution_count": 10,
     "metadata": {},
     "output_type": "execute_result"
    }
   ],
   "source": [
    "datos.dtypes"
   ]
  },
  {
   "cell_type": "markdown",
   "id": "37ad3a4c-9694-4f8f-b8c4-7d603bca7dab",
   "metadata": {},
   "source": [
    "# **Transformar columnas que traen valores  yes,no volveros 1,0**"
   ]
  },
  {
   "cell_type": "code",
   "execution_count": 11,
   "id": "b9e2baa7-f738-4498-a150-8e3d8f5e867d",
   "metadata": {},
   "outputs": [
    {
     "name": "stdout",
     "output_type": "stream",
     "text": [
      "Valores únicos en Churn: ['No' 'Yes' '']\n",
      "Valores únicos en customer_Partner: ['Yes' 'No']\n",
      "Valores únicos en customer_Dependents: ['Yes' 'No']\n",
      "Valores únicos en phone_PhoneService: ['Yes' 'No']\n",
      "Valores únicos en phone_MultipleLines: ['No' 'Yes' 'No phone service']\n",
      "Valores únicos en internet_OnlineSecurity: ['No' 'Yes' 'No internet service']\n",
      "Valores únicos en internet_OnlineBackup: ['Yes' 'No' 'No internet service']\n",
      "Valores únicos en internet_DeviceProtection: ['No' 'Yes' 'No internet service']\n",
      "Valores únicos en internet_TechSupport: ['Yes' 'No' 'No internet service']\n",
      "Valores únicos en internet_StreamingTV: ['Yes' 'No' 'No internet service']\n",
      "Valores únicos en internet_StreamingMovies: ['No' 'Yes' 'No internet service']\n",
      "Valores únicos en account_PaperlessBilling: ['Yes' 'No']\n"
     ]
    }
   ],
   "source": [
    "cols_yes_no = [\n",
    "    'Churn',\n",
    "    'customer_Partner',\n",
    "    'customer_Dependents',\n",
    "    'phone_PhoneService',\n",
    "    'phone_MultipleLines',\n",
    "    'internet_OnlineSecurity',\n",
    "    'internet_OnlineBackup',\n",
    "    'internet_DeviceProtection',\n",
    "    'internet_TechSupport',\n",
    "    'internet_StreamingTV',\n",
    "    'internet_StreamingMovies',\n",
    "    'account_PaperlessBilling'\n",
    "]\n",
    "\n",
    "for col in cols_yes_no:\n",
    "    print(f\"Valores únicos en {col}: {datos[col].unique()}\")"
   ]
  },
  {
   "cell_type": "code",
   "execution_count": 12,
   "id": "13a88cb3-6aed-424f-a32d-372ba611f650",
   "metadata": {},
   "outputs": [
    {
     "name": "stdout",
     "output_type": "stream",
     "text": [
      "Churn: [ 0.  1. nan]\n",
      "customer_Partner: [1 0]\n",
      "customer_Dependents: [1 0]\n",
      "phone_PhoneService: [1 0]\n",
      "phone_MultipleLines: [0 1 'No phone service']\n",
      "internet_OnlineSecurity: [0 1 'No internet service']\n",
      "internet_OnlineBackup: [1 0 'No internet service']\n",
      "internet_DeviceProtection: [0 1 'No internet service']\n",
      "internet_TechSupport: [1 0 'No internet service']\n",
      "internet_StreamingTV: [1 0 'No internet service']\n",
      "internet_StreamingMovies: [0 1 'No internet service']\n",
      "account_PaperlessBilling: [1 0]\n"
     ]
    }
   ],
   "source": [
    "cols_yes_no = [\n",
    "    'Churn',\n",
    "    'customer_Partner',\n",
    "    'customer_Dependents',\n",
    "    'phone_PhoneService',\n",
    "    'phone_MultipleLines',\n",
    "    'internet_OnlineSecurity',\n",
    "    'internet_OnlineBackup',\n",
    "    'internet_DeviceProtection',\n",
    "    'internet_TechSupport',\n",
    "    'internet_StreamingTV',\n",
    "    'internet_StreamingMovies',\n",
    "    'account_PaperlessBilling'\n",
    "]\n",
    "\n",
    "for col in cols_yes_no:\n",
    "    if col == 'Churn':\n",
    "        # Versión limpia para Churn usando map\n",
    "        datos[col] = datos[col].map({'Yes': 1, 'No': 0, '': np.nan})\n",
    "    else:\n",
    "        # Versión eficiente para otras columnas\n",
    "        datos[col] = [1 if x == 'Yes' else (0 if x == 'No' else x) for x in datos[col]]\n",
    "\n",
    "# Verificación\n",
    "for col in cols_yes_no:\n",
    "    print(f\"{col}: {datos[col].unique()}\")"
   ]
  },
  {
   "cell_type": "code",
   "execution_count": 13,
   "id": "86a35e5a-17e5-48f7-9de9-fa3c72cbb26a",
   "metadata": {},
   "outputs": [
    {
     "data": {
      "text/html": [
       "<div>\n",
       "<style scoped>\n",
       "    .dataframe tbody tr th:only-of-type {\n",
       "        vertical-align: middle;\n",
       "    }\n",
       "\n",
       "    .dataframe tbody tr th {\n",
       "        vertical-align: top;\n",
       "    }\n",
       "\n",
       "    .dataframe thead th {\n",
       "        text-align: right;\n",
       "    }\n",
       "</style>\n",
       "<table border=\"1\" class=\"dataframe\">\n",
       "  <thead>\n",
       "    <tr style=\"text-align: right;\">\n",
       "      <th></th>\n",
       "      <th>customerID</th>\n",
       "      <th>Churn</th>\n",
       "      <th>customer_gender</th>\n",
       "      <th>customer_SeniorCitizen</th>\n",
       "      <th>customer_Partner</th>\n",
       "      <th>customer_Dependents</th>\n",
       "      <th>customer_tenure</th>\n",
       "      <th>phone_PhoneService</th>\n",
       "      <th>phone_MultipleLines</th>\n",
       "      <th>internet_InternetService</th>\n",
       "      <th>...</th>\n",
       "      <th>internet_OnlineBackup</th>\n",
       "      <th>internet_DeviceProtection</th>\n",
       "      <th>internet_TechSupport</th>\n",
       "      <th>internet_StreamingTV</th>\n",
       "      <th>internet_StreamingMovies</th>\n",
       "      <th>account_Contract</th>\n",
       "      <th>account_PaperlessBilling</th>\n",
       "      <th>account_PaymentMethod</th>\n",
       "      <th>account_Charges_Monthly</th>\n",
       "      <th>account_Charges_Total</th>\n",
       "    </tr>\n",
       "  </thead>\n",
       "  <tbody>\n",
       "    <tr>\n",
       "      <th>0</th>\n",
       "      <td>0002-ORFBO</td>\n",
       "      <td>0.0</td>\n",
       "      <td>Female</td>\n",
       "      <td>0</td>\n",
       "      <td>1</td>\n",
       "      <td>1</td>\n",
       "      <td>9</td>\n",
       "      <td>1</td>\n",
       "      <td>0</td>\n",
       "      <td>DSL</td>\n",
       "      <td>...</td>\n",
       "      <td>1</td>\n",
       "      <td>0</td>\n",
       "      <td>1</td>\n",
       "      <td>1</td>\n",
       "      <td>0</td>\n",
       "      <td>One year</td>\n",
       "      <td>1</td>\n",
       "      <td>Mailed check</td>\n",
       "      <td>65.6</td>\n",
       "      <td>593.3</td>\n",
       "    </tr>\n",
       "    <tr>\n",
       "      <th>1</th>\n",
       "      <td>0003-MKNFE</td>\n",
       "      <td>0.0</td>\n",
       "      <td>Male</td>\n",
       "      <td>0</td>\n",
       "      <td>0</td>\n",
       "      <td>0</td>\n",
       "      <td>9</td>\n",
       "      <td>1</td>\n",
       "      <td>1</td>\n",
       "      <td>DSL</td>\n",
       "      <td>...</td>\n",
       "      <td>0</td>\n",
       "      <td>0</td>\n",
       "      <td>0</td>\n",
       "      <td>0</td>\n",
       "      <td>1</td>\n",
       "      <td>Month-to-month</td>\n",
       "      <td>0</td>\n",
       "      <td>Mailed check</td>\n",
       "      <td>59.9</td>\n",
       "      <td>542.4</td>\n",
       "    </tr>\n",
       "    <tr>\n",
       "      <th>2</th>\n",
       "      <td>0004-TLHLJ</td>\n",
       "      <td>1.0</td>\n",
       "      <td>Male</td>\n",
       "      <td>0</td>\n",
       "      <td>0</td>\n",
       "      <td>0</td>\n",
       "      <td>4</td>\n",
       "      <td>1</td>\n",
       "      <td>0</td>\n",
       "      <td>Fiber optic</td>\n",
       "      <td>...</td>\n",
       "      <td>0</td>\n",
       "      <td>1</td>\n",
       "      <td>0</td>\n",
       "      <td>0</td>\n",
       "      <td>0</td>\n",
       "      <td>Month-to-month</td>\n",
       "      <td>1</td>\n",
       "      <td>Electronic check</td>\n",
       "      <td>73.9</td>\n",
       "      <td>280.85</td>\n",
       "    </tr>\n",
       "    <tr>\n",
       "      <th>3</th>\n",
       "      <td>0011-IGKFF</td>\n",
       "      <td>1.0</td>\n",
       "      <td>Male</td>\n",
       "      <td>1</td>\n",
       "      <td>1</td>\n",
       "      <td>0</td>\n",
       "      <td>13</td>\n",
       "      <td>1</td>\n",
       "      <td>0</td>\n",
       "      <td>Fiber optic</td>\n",
       "      <td>...</td>\n",
       "      <td>1</td>\n",
       "      <td>1</td>\n",
       "      <td>0</td>\n",
       "      <td>1</td>\n",
       "      <td>1</td>\n",
       "      <td>Month-to-month</td>\n",
       "      <td>1</td>\n",
       "      <td>Electronic check</td>\n",
       "      <td>98.0</td>\n",
       "      <td>1237.85</td>\n",
       "    </tr>\n",
       "    <tr>\n",
       "      <th>4</th>\n",
       "      <td>0013-EXCHZ</td>\n",
       "      <td>1.0</td>\n",
       "      <td>Female</td>\n",
       "      <td>1</td>\n",
       "      <td>1</td>\n",
       "      <td>0</td>\n",
       "      <td>3</td>\n",
       "      <td>1</td>\n",
       "      <td>0</td>\n",
       "      <td>Fiber optic</td>\n",
       "      <td>...</td>\n",
       "      <td>0</td>\n",
       "      <td>0</td>\n",
       "      <td>1</td>\n",
       "      <td>1</td>\n",
       "      <td>0</td>\n",
       "      <td>Month-to-month</td>\n",
       "      <td>1</td>\n",
       "      <td>Mailed check</td>\n",
       "      <td>83.9</td>\n",
       "      <td>267.4</td>\n",
       "    </tr>\n",
       "  </tbody>\n",
       "</table>\n",
       "<p>5 rows × 21 columns</p>\n",
       "</div>"
      ],
      "text/plain": [
       "   customerID  Churn customer_gender  customer_SeniorCitizen  \\\n",
       "0  0002-ORFBO    0.0          Female                       0   \n",
       "1  0003-MKNFE    0.0            Male                       0   \n",
       "2  0004-TLHLJ    1.0            Male                       0   \n",
       "3  0011-IGKFF    1.0            Male                       1   \n",
       "4  0013-EXCHZ    1.0          Female                       1   \n",
       "\n",
       "   customer_Partner  customer_Dependents  customer_tenure  phone_PhoneService  \\\n",
       "0                 1                    1                9                   1   \n",
       "1                 0                    0                9                   1   \n",
       "2                 0                    0                4                   1   \n",
       "3                 1                    0               13                   1   \n",
       "4                 1                    0                3                   1   \n",
       "\n",
       "  phone_MultipleLines internet_InternetService  ... internet_OnlineBackup  \\\n",
       "0                   0                      DSL  ...                     1   \n",
       "1                   1                      DSL  ...                     0   \n",
       "2                   0              Fiber optic  ...                     0   \n",
       "3                   0              Fiber optic  ...                     1   \n",
       "4                   0              Fiber optic  ...                     0   \n",
       "\n",
       "  internet_DeviceProtection internet_TechSupport internet_StreamingTV  \\\n",
       "0                         0                    1                    1   \n",
       "1                         0                    0                    0   \n",
       "2                         1                    0                    0   \n",
       "3                         1                    0                    1   \n",
       "4                         0                    1                    1   \n",
       "\n",
       "  internet_StreamingMovies account_Contract account_PaperlessBilling  \\\n",
       "0                        0         One year                        1   \n",
       "1                        1   Month-to-month                        0   \n",
       "2                        0   Month-to-month                        1   \n",
       "3                        1   Month-to-month                        1   \n",
       "4                        0   Month-to-month                        1   \n",
       "\n",
       "   account_PaymentMethod account_Charges_Monthly  account_Charges_Total  \n",
       "0           Mailed check                    65.6                  593.3  \n",
       "1           Mailed check                    59.9                  542.4  \n",
       "2       Electronic check                    73.9                 280.85  \n",
       "3       Electronic check                    98.0                1237.85  \n",
       "4           Mailed check                    83.9                  267.4  \n",
       "\n",
       "[5 rows x 21 columns]"
      ]
     },
     "execution_count": 13,
     "metadata": {},
     "output_type": "execute_result"
    }
   ],
   "source": [
    "datos.head()"
   ]
  },
  {
   "cell_type": "code",
   "execution_count": 14,
   "id": "9d26aa6f-9669-43c0-9865-5c06d73c0ad8",
   "metadata": {},
   "outputs": [
    {
     "data": {
      "text/plain": [
       "(7267, 21)"
      ]
     },
     "execution_count": 14,
     "metadata": {},
     "output_type": "execute_result"
    }
   ],
   "source": [
    "datos.shape"
   ]
  },
  {
   "cell_type": "code",
   "execution_count": 15,
   "id": "d7b1ed1d-6123-4771-84e3-a3060010ad3d",
   "metadata": {},
   "outputs": [
    {
     "data": {
      "text/plain": [
       "customerID                    object\n",
       "Churn                        float64\n",
       "customer_gender               object\n",
       "customer_SeniorCitizen         int64\n",
       "customer_Partner               int64\n",
       "customer_Dependents            int64\n",
       "customer_tenure                int64\n",
       "phone_PhoneService             int64\n",
       "phone_MultipleLines           object\n",
       "internet_InternetService      object\n",
       "internet_OnlineSecurity       object\n",
       "internet_OnlineBackup         object\n",
       "internet_DeviceProtection     object\n",
       "internet_TechSupport          object\n",
       "internet_StreamingTV          object\n",
       "internet_StreamingMovies      object\n",
       "account_Contract              object\n",
       "account_PaperlessBilling       int64\n",
       "account_PaymentMethod         object\n",
       "account_Charges_Monthly      float64\n",
       "account_Charges_Total         object\n",
       "dtype: object"
      ]
     },
     "execution_count": 15,
     "metadata": {},
     "output_type": "execute_result"
    }
   ],
   "source": [
    "datos.dtypes"
   ]
  },
  {
   "cell_type": "code",
   "execution_count": 16,
   "id": "9affe376-5b90-46b9-9d48-1c5a12b9dc93",
   "metadata": {},
   "outputs": [],
   "source": [
    "# crear columna de \n",
    "\n",
    "datos[\"Cuentas_Diarias\"] = (datos[\"account_Charges_Monthly\"] / 30).round(3)"
   ]
  },
  {
   "cell_type": "code",
   "execution_count": 17,
   "id": "a47b46a6-e176-420a-af79-2d77d97978d9",
   "metadata": {},
   "outputs": [
    {
     "data": {
      "text/html": [
       "<div>\n",
       "<style scoped>\n",
       "    .dataframe tbody tr th:only-of-type {\n",
       "        vertical-align: middle;\n",
       "    }\n",
       "\n",
       "    .dataframe tbody tr th {\n",
       "        vertical-align: top;\n",
       "    }\n",
       "\n",
       "    .dataframe thead th {\n",
       "        text-align: right;\n",
       "    }\n",
       "</style>\n",
       "<table border=\"1\" class=\"dataframe\">\n",
       "  <thead>\n",
       "    <tr style=\"text-align: right;\">\n",
       "      <th></th>\n",
       "      <th>customerID</th>\n",
       "      <th>Churn</th>\n",
       "      <th>customer_gender</th>\n",
       "      <th>customer_SeniorCitizen</th>\n",
       "      <th>customer_Partner</th>\n",
       "      <th>customer_Dependents</th>\n",
       "      <th>customer_tenure</th>\n",
       "      <th>phone_PhoneService</th>\n",
       "      <th>phone_MultipleLines</th>\n",
       "      <th>internet_InternetService</th>\n",
       "      <th>...</th>\n",
       "      <th>internet_DeviceProtection</th>\n",
       "      <th>internet_TechSupport</th>\n",
       "      <th>internet_StreamingTV</th>\n",
       "      <th>internet_StreamingMovies</th>\n",
       "      <th>account_Contract</th>\n",
       "      <th>account_PaperlessBilling</th>\n",
       "      <th>account_PaymentMethod</th>\n",
       "      <th>account_Charges_Monthly</th>\n",
       "      <th>account_Charges_Total</th>\n",
       "      <th>Cuentas_Diarias</th>\n",
       "    </tr>\n",
       "  </thead>\n",
       "  <tbody>\n",
       "    <tr>\n",
       "      <th>0</th>\n",
       "      <td>0002-ORFBO</td>\n",
       "      <td>0.0</td>\n",
       "      <td>Female</td>\n",
       "      <td>0</td>\n",
       "      <td>1</td>\n",
       "      <td>1</td>\n",
       "      <td>9</td>\n",
       "      <td>1</td>\n",
       "      <td>0</td>\n",
       "      <td>DSL</td>\n",
       "      <td>...</td>\n",
       "      <td>0</td>\n",
       "      <td>1</td>\n",
       "      <td>1</td>\n",
       "      <td>0</td>\n",
       "      <td>One year</td>\n",
       "      <td>1</td>\n",
       "      <td>Mailed check</td>\n",
       "      <td>65.6</td>\n",
       "      <td>593.3</td>\n",
       "      <td>2.187</td>\n",
       "    </tr>\n",
       "    <tr>\n",
       "      <th>1</th>\n",
       "      <td>0003-MKNFE</td>\n",
       "      <td>0.0</td>\n",
       "      <td>Male</td>\n",
       "      <td>0</td>\n",
       "      <td>0</td>\n",
       "      <td>0</td>\n",
       "      <td>9</td>\n",
       "      <td>1</td>\n",
       "      <td>1</td>\n",
       "      <td>DSL</td>\n",
       "      <td>...</td>\n",
       "      <td>0</td>\n",
       "      <td>0</td>\n",
       "      <td>0</td>\n",
       "      <td>1</td>\n",
       "      <td>Month-to-month</td>\n",
       "      <td>0</td>\n",
       "      <td>Mailed check</td>\n",
       "      <td>59.9</td>\n",
       "      <td>542.4</td>\n",
       "      <td>1.997</td>\n",
       "    </tr>\n",
       "    <tr>\n",
       "      <th>2</th>\n",
       "      <td>0004-TLHLJ</td>\n",
       "      <td>1.0</td>\n",
       "      <td>Male</td>\n",
       "      <td>0</td>\n",
       "      <td>0</td>\n",
       "      <td>0</td>\n",
       "      <td>4</td>\n",
       "      <td>1</td>\n",
       "      <td>0</td>\n",
       "      <td>Fiber optic</td>\n",
       "      <td>...</td>\n",
       "      <td>1</td>\n",
       "      <td>0</td>\n",
       "      <td>0</td>\n",
       "      <td>0</td>\n",
       "      <td>Month-to-month</td>\n",
       "      <td>1</td>\n",
       "      <td>Electronic check</td>\n",
       "      <td>73.9</td>\n",
       "      <td>280.85</td>\n",
       "      <td>2.463</td>\n",
       "    </tr>\n",
       "    <tr>\n",
       "      <th>3</th>\n",
       "      <td>0011-IGKFF</td>\n",
       "      <td>1.0</td>\n",
       "      <td>Male</td>\n",
       "      <td>1</td>\n",
       "      <td>1</td>\n",
       "      <td>0</td>\n",
       "      <td>13</td>\n",
       "      <td>1</td>\n",
       "      <td>0</td>\n",
       "      <td>Fiber optic</td>\n",
       "      <td>...</td>\n",
       "      <td>1</td>\n",
       "      <td>0</td>\n",
       "      <td>1</td>\n",
       "      <td>1</td>\n",
       "      <td>Month-to-month</td>\n",
       "      <td>1</td>\n",
       "      <td>Electronic check</td>\n",
       "      <td>98.0</td>\n",
       "      <td>1237.85</td>\n",
       "      <td>3.267</td>\n",
       "    </tr>\n",
       "    <tr>\n",
       "      <th>4</th>\n",
       "      <td>0013-EXCHZ</td>\n",
       "      <td>1.0</td>\n",
       "      <td>Female</td>\n",
       "      <td>1</td>\n",
       "      <td>1</td>\n",
       "      <td>0</td>\n",
       "      <td>3</td>\n",
       "      <td>1</td>\n",
       "      <td>0</td>\n",
       "      <td>Fiber optic</td>\n",
       "      <td>...</td>\n",
       "      <td>0</td>\n",
       "      <td>1</td>\n",
       "      <td>1</td>\n",
       "      <td>0</td>\n",
       "      <td>Month-to-month</td>\n",
       "      <td>1</td>\n",
       "      <td>Mailed check</td>\n",
       "      <td>83.9</td>\n",
       "      <td>267.4</td>\n",
       "      <td>2.797</td>\n",
       "    </tr>\n",
       "  </tbody>\n",
       "</table>\n",
       "<p>5 rows × 22 columns</p>\n",
       "</div>"
      ],
      "text/plain": [
       "   customerID  Churn customer_gender  customer_SeniorCitizen  \\\n",
       "0  0002-ORFBO    0.0          Female                       0   \n",
       "1  0003-MKNFE    0.0            Male                       0   \n",
       "2  0004-TLHLJ    1.0            Male                       0   \n",
       "3  0011-IGKFF    1.0            Male                       1   \n",
       "4  0013-EXCHZ    1.0          Female                       1   \n",
       "\n",
       "   customer_Partner  customer_Dependents  customer_tenure  phone_PhoneService  \\\n",
       "0                 1                    1                9                   1   \n",
       "1                 0                    0                9                   1   \n",
       "2                 0                    0                4                   1   \n",
       "3                 1                    0               13                   1   \n",
       "4                 1                    0                3                   1   \n",
       "\n",
       "  phone_MultipleLines internet_InternetService  ... internet_DeviceProtection  \\\n",
       "0                   0                      DSL  ...                         0   \n",
       "1                   1                      DSL  ...                         0   \n",
       "2                   0              Fiber optic  ...                         1   \n",
       "3                   0              Fiber optic  ...                         1   \n",
       "4                   0              Fiber optic  ...                         0   \n",
       "\n",
       "  internet_TechSupport internet_StreamingTV internet_StreamingMovies  \\\n",
       "0                    1                    1                        0   \n",
       "1                    0                    0                        1   \n",
       "2                    0                    0                        0   \n",
       "3                    0                    1                        1   \n",
       "4                    1                    1                        0   \n",
       "\n",
       "  account_Contract account_PaperlessBilling account_PaymentMethod  \\\n",
       "0         One year                        1          Mailed check   \n",
       "1   Month-to-month                        0          Mailed check   \n",
       "2   Month-to-month                        1      Electronic check   \n",
       "3   Month-to-month                        1      Electronic check   \n",
       "4   Month-to-month                        1          Mailed check   \n",
       "\n",
       "   account_Charges_Monthly account_Charges_Total  Cuentas_Diarias  \n",
       "0                     65.6                 593.3            2.187  \n",
       "1                     59.9                 542.4            1.997  \n",
       "2                     73.9                280.85            2.463  \n",
       "3                     98.0               1237.85            3.267  \n",
       "4                     83.9                 267.4            2.797  \n",
       "\n",
       "[5 rows x 22 columns]"
      ]
     },
     "execution_count": 17,
     "metadata": {},
     "output_type": "execute_result"
    }
   ],
   "source": [
    "datos.head()"
   ]
  },
  {
   "cell_type": "code",
   "execution_count": 18,
   "id": "e3b2b829-2c5d-4809-a3b1-75c4b282a2a4",
   "metadata": {},
   "outputs": [
    {
     "data": {
      "text/plain": [
       "dtype('float64')"
      ]
     },
     "execution_count": 18,
     "metadata": {},
     "output_type": "execute_result"
    }
   ],
   "source": [
    "(datos[\"Cuentas_Diarias\"].dtype)"
   ]
  },
  {
   "cell_type": "code",
   "execution_count": 19,
   "id": "c11df7a8-4ca5-4765-9220-7119c7349323",
   "metadata": {},
   "outputs": [
    {
     "data": {
      "text/plain": [
       "customerID                    object\n",
       "Churn                        float64\n",
       "customer_gender               object\n",
       "customer_SeniorCitizen         int64\n",
       "customer_Partner               int64\n",
       "customer_Dependents            int64\n",
       "customer_tenure                int64\n",
       "phone_PhoneService             int64\n",
       "phone_MultipleLines           object\n",
       "internet_InternetService      object\n",
       "internet_OnlineSecurity       object\n",
       "internet_OnlineBackup         object\n",
       "internet_DeviceProtection     object\n",
       "internet_TechSupport          object\n",
       "internet_StreamingTV          object\n",
       "internet_StreamingMovies      object\n",
       "account_Contract              object\n",
       "account_PaperlessBilling       int64\n",
       "account_PaymentMethod         object\n",
       "account_Charges_Monthly      float64\n",
       "account_Charges_Total         object\n",
       "Cuentas_Diarias              float64\n",
       "dtype: object"
      ]
     },
     "execution_count": 19,
     "metadata": {},
     "output_type": "execute_result"
    }
   ],
   "source": [
    "datos.dtypes"
   ]
  },
  {
   "cell_type": "code",
   "execution_count": 20,
   "id": "adbec252-ab39-4e60-bbde-6f571f8d67e2",
   "metadata": {},
   "outputs": [],
   "source": [
    "datos.rename(columns={\n",
    "    \"customerID\": \"ID_Cliente\",\n",
    "    \"Churn\": \"Cancelación\",\n",
    "    \"customer_gender\": \"Género\",\n",
    "    \"customer_SeniorCitizen\": \"Adulto_Mayor\",\n",
    "    \"customer_Partner\": \"Tiene_Pareja\",\n",
    "    \"customer_Dependents\": \"Tiene_Dependientes\",\n",
    "    \"customer_tenure\": \"Meses_Conectado\",\n",
    "    \"phone_PhoneService\": \"Servicio_Teléfono\",\n",
    "    \"phone_MultipleLines\": \"Líneas_Múltiples\",\n",
    "    \"internet_InternetService\": \"Servicio_Internet\",\n",
    "    \"internet_OnlineSecurity\": \"Seguridad_En_Línea\",\n",
    "    \"internet_OnlineBackup\": \"Respaldo_En_Línea\",\n",
    "    \"internet_DeviceProtection\": \"Protección_Dispositivo\",\n",
    "    \"internet_TechSupport\": \"Soporte_Técnico\",\n",
    "    \"internet_StreamingTV\": \"TV_Streaming\",\n",
    "    \"internet_StreamingMovies\": \"Películas_Streaming\",\n",
    "    \"account_Contract\": \"Tipo_Contrato\",\n",
    "    \"account_PaperlessBilling\": \"Factura_Electrónica\",\n",
    "    \"account_PaymentMethod\": \"Método_Pago\",\n",
    "    \"account_Charges_Monthly\": \"Cargos_Mensuales\",\n",
    "    \"account_Charges_Total\": \"Cargos_Totales\",\n",
    "    \"Cuentas_Diarias\": \"Cargos_Diarios\"\n",
    "}, inplace=True)"
   ]
  },
  {
   "cell_type": "markdown",
   "id": "61c871a5-4eca-4fa0-89ec-14edaffaf138",
   "metadata": {},
   "source": [
    "datos.dtypes"
   ]
  },
  {
   "cell_type": "markdown",
   "id": "8cff7d40-1737-41b9-9b51-60bd5a4cbe49",
   "metadata": {},
   "source": [
    "## **Genero un JSON**"
   ]
  },
  {
   "cell_type": "code",
   "execution_count": 21,
   "id": "41ca4c27-6eac-46d8-b288-bdd250109236",
   "metadata": {},
   "outputs": [],
   "source": [
    "# exportamos a JSON el Dataframe\n",
    "\n",
    "datos.to_json(\"datos_final.json\", orient=\"records\", lines=True)"
   ]
  },
  {
   "cell_type": "markdown",
   "id": "69c67c48-a22c-4ae0-a14a-27e0bf2e1d76",
   "metadata": {},
   "source": [
    "## **Analisis descriptivo**"
   ]
  },
  {
   "cell_type": "code",
   "execution_count": 22,
   "id": "99edf3b1-9599-4ef1-a828-bf832414423b",
   "metadata": {},
   "outputs": [
    {
     "data": {
      "text/html": [
       "<div>\n",
       "<style scoped>\n",
       "    .dataframe tbody tr th:only-of-type {\n",
       "        vertical-align: middle;\n",
       "    }\n",
       "\n",
       "    .dataframe tbody tr th {\n",
       "        vertical-align: top;\n",
       "    }\n",
       "\n",
       "    .dataframe thead th {\n",
       "        text-align: right;\n",
       "    }\n",
       "</style>\n",
       "<table border=\"1\" class=\"dataframe\">\n",
       "  <thead>\n",
       "    <tr style=\"text-align: right;\">\n",
       "      <th></th>\n",
       "      <th>Cancelación</th>\n",
       "      <th>Adulto_Mayor</th>\n",
       "      <th>Tiene_Pareja</th>\n",
       "      <th>Tiene_Dependientes</th>\n",
       "      <th>Meses_Conectado</th>\n",
       "      <th>Servicio_Teléfono</th>\n",
       "      <th>Factura_Electrónica</th>\n",
       "      <th>Cargos_Mensuales</th>\n",
       "      <th>Cargos_Diarios</th>\n",
       "    </tr>\n",
       "  </thead>\n",
       "  <tbody>\n",
       "    <tr>\n",
       "      <th>count</th>\n",
       "      <td>7043.000000</td>\n",
       "      <td>7267.000000</td>\n",
       "      <td>7267.000000</td>\n",
       "      <td>7267.000000</td>\n",
       "      <td>7267.000000</td>\n",
       "      <td>7267.000000</td>\n",
       "      <td>7267.000000</td>\n",
       "      <td>7267.000000</td>\n",
       "      <td>7267.000000</td>\n",
       "    </tr>\n",
       "    <tr>\n",
       "      <th>mean</th>\n",
       "      <td>0.265370</td>\n",
       "      <td>0.162653</td>\n",
       "      <td>0.484106</td>\n",
       "      <td>0.300124</td>\n",
       "      <td>32.346498</td>\n",
       "      <td>0.902711</td>\n",
       "      <td>0.593230</td>\n",
       "      <td>64.720098</td>\n",
       "      <td>2.157341</td>\n",
       "    </tr>\n",
       "    <tr>\n",
       "      <th>std</th>\n",
       "      <td>0.441561</td>\n",
       "      <td>0.369074</td>\n",
       "      <td>0.499782</td>\n",
       "      <td>0.458343</td>\n",
       "      <td>24.571773</td>\n",
       "      <td>0.296371</td>\n",
       "      <td>0.491265</td>\n",
       "      <td>30.129572</td>\n",
       "      <td>1.004322</td>\n",
       "    </tr>\n",
       "    <tr>\n",
       "      <th>min</th>\n",
       "      <td>0.000000</td>\n",
       "      <td>0.000000</td>\n",
       "      <td>0.000000</td>\n",
       "      <td>0.000000</td>\n",
       "      <td>0.000000</td>\n",
       "      <td>0.000000</td>\n",
       "      <td>0.000000</td>\n",
       "      <td>18.250000</td>\n",
       "      <td>0.608000</td>\n",
       "    </tr>\n",
       "    <tr>\n",
       "      <th>25%</th>\n",
       "      <td>0.000000</td>\n",
       "      <td>0.000000</td>\n",
       "      <td>0.000000</td>\n",
       "      <td>0.000000</td>\n",
       "      <td>9.000000</td>\n",
       "      <td>1.000000</td>\n",
       "      <td>0.000000</td>\n",
       "      <td>35.425000</td>\n",
       "      <td>1.181000</td>\n",
       "    </tr>\n",
       "    <tr>\n",
       "      <th>50%</th>\n",
       "      <td>0.000000</td>\n",
       "      <td>0.000000</td>\n",
       "      <td>0.000000</td>\n",
       "      <td>0.000000</td>\n",
       "      <td>29.000000</td>\n",
       "      <td>1.000000</td>\n",
       "      <td>1.000000</td>\n",
       "      <td>70.300000</td>\n",
       "      <td>2.343000</td>\n",
       "    </tr>\n",
       "    <tr>\n",
       "      <th>75%</th>\n",
       "      <td>1.000000</td>\n",
       "      <td>0.000000</td>\n",
       "      <td>1.000000</td>\n",
       "      <td>1.000000</td>\n",
       "      <td>55.000000</td>\n",
       "      <td>1.000000</td>\n",
       "      <td>1.000000</td>\n",
       "      <td>89.875000</td>\n",
       "      <td>2.996000</td>\n",
       "    </tr>\n",
       "    <tr>\n",
       "      <th>max</th>\n",
       "      <td>1.000000</td>\n",
       "      <td>1.000000</td>\n",
       "      <td>1.000000</td>\n",
       "      <td>1.000000</td>\n",
       "      <td>72.000000</td>\n",
       "      <td>1.000000</td>\n",
       "      <td>1.000000</td>\n",
       "      <td>118.750000</td>\n",
       "      <td>3.958000</td>\n",
       "    </tr>\n",
       "  </tbody>\n",
       "</table>\n",
       "</div>"
      ],
      "text/plain": [
       "       Cancelación  Adulto_Mayor  Tiene_Pareja  Tiene_Dependientes  \\\n",
       "count  7043.000000   7267.000000   7267.000000         7267.000000   \n",
       "mean      0.265370      0.162653      0.484106            0.300124   \n",
       "std       0.441561      0.369074      0.499782            0.458343   \n",
       "min       0.000000      0.000000      0.000000            0.000000   \n",
       "25%       0.000000      0.000000      0.000000            0.000000   \n",
       "50%       0.000000      0.000000      0.000000            0.000000   \n",
       "75%       1.000000      0.000000      1.000000            1.000000   \n",
       "max       1.000000      1.000000      1.000000            1.000000   \n",
       "\n",
       "       Meses_Conectado  Servicio_Teléfono  Factura_Electrónica  \\\n",
       "count      7267.000000        7267.000000          7267.000000   \n",
       "mean         32.346498           0.902711             0.593230   \n",
       "std          24.571773           0.296371             0.491265   \n",
       "min           0.000000           0.000000             0.000000   \n",
       "25%           9.000000           1.000000             0.000000   \n",
       "50%          29.000000           1.000000             1.000000   \n",
       "75%          55.000000           1.000000             1.000000   \n",
       "max          72.000000           1.000000             1.000000   \n",
       "\n",
       "       Cargos_Mensuales  Cargos_Diarios  \n",
       "count       7267.000000     7267.000000  \n",
       "mean          64.720098        2.157341  \n",
       "std           30.129572        1.004322  \n",
       "min           18.250000        0.608000  \n",
       "25%           35.425000        1.181000  \n",
       "50%           70.300000        2.343000  \n",
       "75%           89.875000        2.996000  \n",
       "max          118.750000        3.958000  "
      ]
     },
     "execution_count": 22,
     "metadata": {},
     "output_type": "execute_result"
    }
   ],
   "source": [
    "# analisis Descriptivo\n",
    "\n",
    "datos.describe()"
   ]
  },
  {
   "cell_type": "markdown",
   "id": "9650a595-b212-40cb-a8d1-0e4861bd14f4",
   "metadata": {},
   "source": [
    "# **Graficas**"
   ]
  },
  {
   "cell_type": "code",
   "execution_count": 23,
   "id": "0e987df3-161c-45b6-aa56-96a4d3cfdd99",
   "metadata": {},
   "outputs": [],
   "source": [
    "import matplotlib.pyplot as plt\n",
    "import seaborn as sns\n",
    "import plotly.express as px\n",
    "\n",
    "# Hago copia para ver la columna cancelacion\n",
    "df_clean = datos.dropna(subset=['Cancelación']).copy()\n",
    "\n",
    "# Variable 1\n",
    "df_clean['Estado'] = df_clean['Cancelación'].map({\n",
    "    0.0: 'Activo',\n",
    "    1.0: 'Baja'\n",
    "}).astype('category')\n",
    "\n",
    "df_summary = df_clean['Estado'].value_counts().reset_index()\n",
    "df_summary.columns = ['Estado', 'Clientes']\n",
    "df_summary['Porcentaje'] = (df_summary['Clientes'] / df_summary['Clientes'].sum() * 100).round(1)"
   ]
  },
  {
   "cell_type": "code",
   "execution_count": 25,
   "id": "f5200f4f-cd25-4f56-a078-a8afa3a117c1",
   "metadata": {},
   "outputs": [
    {
     "data": {
      "application/vnd.plotly.v1+json": {
       "config": {
        "plotlyServerURL": "https://plot.ly"
       },
       "data": [
        {
         "customdata": [
          [
           "Activo"
          ],
          [
           "Baja"
          ]
         ],
         "domain": {
          "x": [
           0,
           1
          ],
          "y": [
           0,
           1
          ]
         },
         "hole": 0.3,
         "hovertemplate": "Estado=%{customdata[0]}<br>Clientes=%{value}<extra></extra>",
         "labels": [
          "Activo",
          "Baja"
         ],
         "legendgroup": "",
         "marker": {
          "colors": [
           "#2A5CAA",
           "#D62728"
          ],
          "line": {
           "color": "white",
           "width": 2
          }
         },
         "name": "",
         "pull": [
          0.05,
          0
         ],
         "rotation": 45,
         "showlegend": true,
         "textinfo": "percent",
         "textposition": "inside",
         "type": "pie",
         "values": [
          5174,
          1869
         ]
        }
       ],
       "layout": {
        "annotations": [
         {
          "align": "left",
          "bgcolor": "white",
          "bordercolor": "green",
          "borderwidth": 1,
          "showarrow": false,
          "text": "<b>ESTADISTICAS</b><br>Clientes Activos: 5174<br>Clientes de Baja: 1869<br>Total Clientes: 7043",
          "x": 1.1,
          "xref": "paper",
          "y": 0.9,
          "yref": "paper"
         }
        ],
        "autosize": true,
        "font": {
         "family": "firacode"
        },
        "legend": {
         "orientation": "v",
         "title": {
          "text": "<b>Estados</b>"
         },
         "tracegroupgap": 0,
         "x": 1.05,
         "xanchor": "left",
         "y": 0.5,
         "yanchor": "middle"
        },
        "margin": {
         "l": 50,
         "r": 150
        },
        "template": {
         "data": {
          "bar": [
           {
            "error_x": {
             "color": "#2a3f5f"
            },
            "error_y": {
             "color": "#2a3f5f"
            },
            "marker": {
             "line": {
              "color": "white",
              "width": 0.5
             },
             "pattern": {
              "fillmode": "overlay",
              "size": 10,
              "solidity": 0.2
             }
            },
            "type": "bar"
           }
          ],
          "barpolar": [
           {
            "marker": {
             "line": {
              "color": "white",
              "width": 0.5
             },
             "pattern": {
              "fillmode": "overlay",
              "size": 10,
              "solidity": 0.2
             }
            },
            "type": "barpolar"
           }
          ],
          "carpet": [
           {
            "aaxis": {
             "endlinecolor": "#2a3f5f",
             "gridcolor": "#C8D4E3",
             "linecolor": "#C8D4E3",
             "minorgridcolor": "#C8D4E3",
             "startlinecolor": "#2a3f5f"
            },
            "baxis": {
             "endlinecolor": "#2a3f5f",
             "gridcolor": "#C8D4E3",
             "linecolor": "#C8D4E3",
             "minorgridcolor": "#C8D4E3",
             "startlinecolor": "#2a3f5f"
            },
            "type": "carpet"
           }
          ],
          "choropleth": [
           {
            "colorbar": {
             "outlinewidth": 0,
             "ticks": ""
            },
            "type": "choropleth"
           }
          ],
          "contour": [
           {
            "colorbar": {
             "outlinewidth": 0,
             "ticks": ""
            },
            "colorscale": [
             [
              0,
              "#0d0887"
             ],
             [
              0.1111111111111111,
              "#46039f"
             ],
             [
              0.2222222222222222,
              "#7201a8"
             ],
             [
              0.3333333333333333,
              "#9c179e"
             ],
             [
              0.4444444444444444,
              "#bd3786"
             ],
             [
              0.5555555555555556,
              "#d8576b"
             ],
             [
              0.6666666666666666,
              "#ed7953"
             ],
             [
              0.7777777777777778,
              "#fb9f3a"
             ],
             [
              0.8888888888888888,
              "#fdca26"
             ],
             [
              1,
              "#f0f921"
             ]
            ],
            "type": "contour"
           }
          ],
          "contourcarpet": [
           {
            "colorbar": {
             "outlinewidth": 0,
             "ticks": ""
            },
            "type": "contourcarpet"
           }
          ],
          "heatmap": [
           {
            "colorbar": {
             "outlinewidth": 0,
             "ticks": ""
            },
            "colorscale": [
             [
              0,
              "#0d0887"
             ],
             [
              0.1111111111111111,
              "#46039f"
             ],
             [
              0.2222222222222222,
              "#7201a8"
             ],
             [
              0.3333333333333333,
              "#9c179e"
             ],
             [
              0.4444444444444444,
              "#bd3786"
             ],
             [
              0.5555555555555556,
              "#d8576b"
             ],
             [
              0.6666666666666666,
              "#ed7953"
             ],
             [
              0.7777777777777778,
              "#fb9f3a"
             ],
             [
              0.8888888888888888,
              "#fdca26"
             ],
             [
              1,
              "#f0f921"
             ]
            ],
            "type": "heatmap"
           }
          ],
          "heatmapgl": [
           {
            "colorbar": {
             "outlinewidth": 0,
             "ticks": ""
            },
            "colorscale": [
             [
              0,
              "#0d0887"
             ],
             [
              0.1111111111111111,
              "#46039f"
             ],
             [
              0.2222222222222222,
              "#7201a8"
             ],
             [
              0.3333333333333333,
              "#9c179e"
             ],
             [
              0.4444444444444444,
              "#bd3786"
             ],
             [
              0.5555555555555556,
              "#d8576b"
             ],
             [
              0.6666666666666666,
              "#ed7953"
             ],
             [
              0.7777777777777778,
              "#fb9f3a"
             ],
             [
              0.8888888888888888,
              "#fdca26"
             ],
             [
              1,
              "#f0f921"
             ]
            ],
            "type": "heatmapgl"
           }
          ],
          "histogram": [
           {
            "marker": {
             "pattern": {
              "fillmode": "overlay",
              "size": 10,
              "solidity": 0.2
             }
            },
            "type": "histogram"
           }
          ],
          "histogram2d": [
           {
            "colorbar": {
             "outlinewidth": 0,
             "ticks": ""
            },
            "colorscale": [
             [
              0,
              "#0d0887"
             ],
             [
              0.1111111111111111,
              "#46039f"
             ],
             [
              0.2222222222222222,
              "#7201a8"
             ],
             [
              0.3333333333333333,
              "#9c179e"
             ],
             [
              0.4444444444444444,
              "#bd3786"
             ],
             [
              0.5555555555555556,
              "#d8576b"
             ],
             [
              0.6666666666666666,
              "#ed7953"
             ],
             [
              0.7777777777777778,
              "#fb9f3a"
             ],
             [
              0.8888888888888888,
              "#fdca26"
             ],
             [
              1,
              "#f0f921"
             ]
            ],
            "type": "histogram2d"
           }
          ],
          "histogram2dcontour": [
           {
            "colorbar": {
             "outlinewidth": 0,
             "ticks": ""
            },
            "colorscale": [
             [
              0,
              "#0d0887"
             ],
             [
              0.1111111111111111,
              "#46039f"
             ],
             [
              0.2222222222222222,
              "#7201a8"
             ],
             [
              0.3333333333333333,
              "#9c179e"
             ],
             [
              0.4444444444444444,
              "#bd3786"
             ],
             [
              0.5555555555555556,
              "#d8576b"
             ],
             [
              0.6666666666666666,
              "#ed7953"
             ],
             [
              0.7777777777777778,
              "#fb9f3a"
             ],
             [
              0.8888888888888888,
              "#fdca26"
             ],
             [
              1,
              "#f0f921"
             ]
            ],
            "type": "histogram2dcontour"
           }
          ],
          "mesh3d": [
           {
            "colorbar": {
             "outlinewidth": 0,
             "ticks": ""
            },
            "type": "mesh3d"
           }
          ],
          "parcoords": [
           {
            "line": {
             "colorbar": {
              "outlinewidth": 0,
              "ticks": ""
             }
            },
            "type": "parcoords"
           }
          ],
          "pie": [
           {
            "automargin": true,
            "type": "pie"
           }
          ],
          "scatter": [
           {
            "fillpattern": {
             "fillmode": "overlay",
             "size": 10,
             "solidity": 0.2
            },
            "type": "scatter"
           }
          ],
          "scatter3d": [
           {
            "line": {
             "colorbar": {
              "outlinewidth": 0,
              "ticks": ""
             }
            },
            "marker": {
             "colorbar": {
              "outlinewidth": 0,
              "ticks": ""
             }
            },
            "type": "scatter3d"
           }
          ],
          "scattercarpet": [
           {
            "marker": {
             "colorbar": {
              "outlinewidth": 0,
              "ticks": ""
             }
            },
            "type": "scattercarpet"
           }
          ],
          "scattergeo": [
           {
            "marker": {
             "colorbar": {
              "outlinewidth": 0,
              "ticks": ""
             }
            },
            "type": "scattergeo"
           }
          ],
          "scattergl": [
           {
            "marker": {
             "colorbar": {
              "outlinewidth": 0,
              "ticks": ""
             }
            },
            "type": "scattergl"
           }
          ],
          "scattermapbox": [
           {
            "marker": {
             "colorbar": {
              "outlinewidth": 0,
              "ticks": ""
             }
            },
            "type": "scattermapbox"
           }
          ],
          "scatterpolar": [
           {
            "marker": {
             "colorbar": {
              "outlinewidth": 0,
              "ticks": ""
             }
            },
            "type": "scatterpolar"
           }
          ],
          "scatterpolargl": [
           {
            "marker": {
             "colorbar": {
              "outlinewidth": 0,
              "ticks": ""
             }
            },
            "type": "scatterpolargl"
           }
          ],
          "scatterternary": [
           {
            "marker": {
             "colorbar": {
              "outlinewidth": 0,
              "ticks": ""
             }
            },
            "type": "scatterternary"
           }
          ],
          "surface": [
           {
            "colorbar": {
             "outlinewidth": 0,
             "ticks": ""
            },
            "colorscale": [
             [
              0,
              "#0d0887"
             ],
             [
              0.1111111111111111,
              "#46039f"
             ],
             [
              0.2222222222222222,
              "#7201a8"
             ],
             [
              0.3333333333333333,
              "#9c179e"
             ],
             [
              0.4444444444444444,
              "#bd3786"
             ],
             [
              0.5555555555555556,
              "#d8576b"
             ],
             [
              0.6666666666666666,
              "#ed7953"
             ],
             [
              0.7777777777777778,
              "#fb9f3a"
             ],
             [
              0.8888888888888888,
              "#fdca26"
             ],
             [
              1,
              "#f0f921"
             ]
            ],
            "type": "surface"
           }
          ],
          "table": [
           {
            "cells": {
             "fill": {
              "color": "#EBF0F8"
             },
             "line": {
              "color": "white"
             }
            },
            "header": {
             "fill": {
              "color": "#C8D4E3"
             },
             "line": {
              "color": "white"
             }
            },
            "type": "table"
           }
          ]
         },
         "layout": {
          "annotationdefaults": {
           "arrowcolor": "#2a3f5f",
           "arrowhead": 0,
           "arrowwidth": 1
          },
          "autotypenumbers": "strict",
          "coloraxis": {
           "colorbar": {
            "outlinewidth": 0,
            "ticks": ""
           }
          },
          "colorscale": {
           "diverging": [
            [
             0,
             "#8e0152"
            ],
            [
             0.1,
             "#c51b7d"
            ],
            [
             0.2,
             "#de77ae"
            ],
            [
             0.3,
             "#f1b6da"
            ],
            [
             0.4,
             "#fde0ef"
            ],
            [
             0.5,
             "#f7f7f7"
            ],
            [
             0.6,
             "#e6f5d0"
            ],
            [
             0.7,
             "#b8e186"
            ],
            [
             0.8,
             "#7fbc41"
            ],
            [
             0.9,
             "#4d9221"
            ],
            [
             1,
             "#276419"
            ]
           ],
           "sequential": [
            [
             0,
             "#0d0887"
            ],
            [
             0.1111111111111111,
             "#46039f"
            ],
            [
             0.2222222222222222,
             "#7201a8"
            ],
            [
             0.3333333333333333,
             "#9c179e"
            ],
            [
             0.4444444444444444,
             "#bd3786"
            ],
            [
             0.5555555555555556,
             "#d8576b"
            ],
            [
             0.6666666666666666,
             "#ed7953"
            ],
            [
             0.7777777777777778,
             "#fb9f3a"
            ],
            [
             0.8888888888888888,
             "#fdca26"
            ],
            [
             1,
             "#f0f921"
            ]
           ],
           "sequentialminus": [
            [
             0,
             "#0d0887"
            ],
            [
             0.1111111111111111,
             "#46039f"
            ],
            [
             0.2222222222222222,
             "#7201a8"
            ],
            [
             0.3333333333333333,
             "#9c179e"
            ],
            [
             0.4444444444444444,
             "#bd3786"
            ],
            [
             0.5555555555555556,
             "#d8576b"
            ],
            [
             0.6666666666666666,
             "#ed7953"
            ],
            [
             0.7777777777777778,
             "#fb9f3a"
            ],
            [
             0.8888888888888888,
             "#fdca26"
            ],
            [
             1,
             "#f0f921"
            ]
           ]
          },
          "colorway": [
           "#636efa",
           "#EF553B",
           "#00cc96",
           "#ab63fa",
           "#FFA15A",
           "#19d3f3",
           "#FF6692",
           "#B6E880",
           "#FF97FF",
           "#FECB52"
          ],
          "font": {
           "color": "#2a3f5f"
          },
          "geo": {
           "bgcolor": "white",
           "lakecolor": "white",
           "landcolor": "white",
           "showlakes": true,
           "showland": true,
           "subunitcolor": "#C8D4E3"
          },
          "hoverlabel": {
           "align": "left"
          },
          "hovermode": "closest",
          "mapbox": {
           "style": "light"
          },
          "paper_bgcolor": "white",
          "plot_bgcolor": "white",
          "polar": {
           "angularaxis": {
            "gridcolor": "#EBF0F8",
            "linecolor": "#EBF0F8",
            "ticks": ""
           },
           "bgcolor": "white",
           "radialaxis": {
            "gridcolor": "#EBF0F8",
            "linecolor": "#EBF0F8",
            "ticks": ""
           }
          },
          "scene": {
           "xaxis": {
            "backgroundcolor": "white",
            "gridcolor": "#DFE8F3",
            "gridwidth": 2,
            "linecolor": "#EBF0F8",
            "showbackground": true,
            "ticks": "",
            "zerolinecolor": "#EBF0F8"
           },
           "yaxis": {
            "backgroundcolor": "white",
            "gridcolor": "#DFE8F3",
            "gridwidth": 2,
            "linecolor": "#EBF0F8",
            "showbackground": true,
            "ticks": "",
            "zerolinecolor": "#EBF0F8"
           },
           "zaxis": {
            "backgroundcolor": "white",
            "gridcolor": "#DFE8F3",
            "gridwidth": 2,
            "linecolor": "#EBF0F8",
            "showbackground": true,
            "ticks": "",
            "zerolinecolor": "#EBF0F8"
           }
          },
          "shapedefaults": {
           "line": {
            "color": "#2a3f5f"
           }
          },
          "ternary": {
           "aaxis": {
            "gridcolor": "#DFE8F3",
            "linecolor": "#A2B1C6",
            "ticks": ""
           },
           "baxis": {
            "gridcolor": "#DFE8F3",
            "linecolor": "#A2B1C6",
            "ticks": ""
           },
           "bgcolor": "white",
           "caxis": {
            "gridcolor": "#DFE8F3",
            "linecolor": "#A2B1C6",
            "ticks": ""
           }
          },
          "title": {
           "x": 0.05
          },
          "xaxis": {
           "automargin": true,
           "gridcolor": "#EBF0F8",
           "linecolor": "#EBF0F8",
           "ticks": "",
           "title": {
            "standoff": 15
           },
           "zerolinecolor": "#EBF0F8",
           "zerolinewidth": 2
          },
          "yaxis": {
           "automargin": true,
           "gridcolor": "#EBF0F8",
           "linecolor": "#EBF0F8",
           "ticks": "",
           "title": {
            "standoff": 15
           },
           "zerolinecolor": "#EBF0F8",
           "zerolinewidth": 2
          }
         }
        },
        "title": {
         "text": "<b>Distribucion de estado de Clientes</b>"
        }
       }
      },
      "image/png": "[encoded data removed]",
      "text/html": [
       "<div>                            <div id=\"2c224b5a-7ed5-491b-a208-5683d4b1da20\" class=\"plotly-graph-div\" style=\"height:525px; width:100%;\"></div>            <script type=\"text/javascript\">                require([\"plotly\"], function(Plotly) {                    window.PLOTLYENV=window.PLOTLYENV || {};                                    if (document.getElementById(\"2c224b5a-7ed5-491b-a208-5683d4b1da20\")) {                    Plotly.newPlot(                        \"2c224b5a-7ed5-491b-a208-5683d4b1da20\",                        [{\"customdata\":[[\"Activo\"],[\"Baja\"]],\"domain\":{\"x\":[0.0,1.0],\"y\":[0.0,1.0]},\"hole\":0.3,\"hovertemplate\":\"Estado=%{customdata[0]}\\u003cbr\\u003eClientes=%{value}\\u003cextra\\u003e\\u003c\\u002fextra\\u003e\",\"labels\":[\"Activo\",\"Baja\"],\"legendgroup\":\"\",\"marker\":{\"colors\":[\"#2A5CAA\",\"#D62728\"],\"line\":{\"color\":\"white\",\"width\":2}},\"name\":\"\",\"showlegend\":true,\"values\":[5174,1869],\"type\":\"pie\",\"pull\":[0.05,0],\"rotation\":45,\"textinfo\":\"percent\",\"textposition\":\"inside\"}],                        {\"template\":{\"data\":{\"barpolar\":[{\"marker\":{\"line\":{\"color\":\"white\",\"width\":0.5},\"pattern\":{\"fillmode\":\"overlay\",\"size\":10,\"solidity\":0.2}},\"type\":\"barpolar\"}],\"bar\":[{\"error_x\":{\"color\":\"#2a3f5f\"},\"error_y\":{\"color\":\"#2a3f5f\"},\"marker\":{\"line\":{\"color\":\"white\",\"width\":0.5},\"pattern\":{\"fillmode\":\"overlay\",\"size\":10,\"solidity\":0.2}},\"type\":\"bar\"}],\"carpet\":[{\"aaxis\":{\"endlinecolor\":\"#2a3f5f\",\"gridcolor\":\"#C8D4E3\",\"linecolor\":\"#C8D4E3\",\"minorgridcolor\":\"#C8D4E3\",\"startlinecolor\":\"#2a3f5f\"},\"baxis\":{\"endlinecolor\":\"#2a3f5f\",\"gridcolor\":\"#C8D4E3\",\"linecolor\":\"#C8D4E3\",\"minorgridcolor\":\"#C8D4E3\",\"startlinecolor\":\"#2a3f5f\"},\"type\":\"carpet\"}],\"choropleth\":[{\"colorbar\":{\"outlinewidth\":0,\"ticks\":\"\"},\"type\":\"choropleth\"}],\"contourcarpet\":[{\"colorbar\":{\"outlinewidth\":0,\"ticks\":\"\"},\"type\":\"contourcarpet\"}],\"contour\":[{\"colorbar\":{\"outlinewidth\":0,\"ticks\":\"\"},\"colorscale\":[[0.0,\"#0d0887\"],[0.1111111111111111,\"#46039f\"],[0.2222222222222222,\"#7201a8\"],[0.3333333333333333,\"#9c179e\"],[0.4444444444444444,\"#bd3786\"],[0.5555555555555556,\"#d8576b\"],[0.6666666666666666,\"#ed7953\"],[0.7777777777777778,\"#fb9f3a\"],[0.8888888888888888,\"#fdca26\"],[1.0,\"#f0f921\"]],\"type\":\"contour\"}],\"heatmapgl\":[{\"colorbar\":{\"outlinewidth\":0,\"ticks\":\"\"},\"colorscale\":[[0.0,\"#0d0887\"],[0.1111111111111111,\"#46039f\"],[0.2222222222222222,\"#7201a8\"],[0.3333333333333333,\"#9c179e\"],[0.4444444444444444,\"#bd3786\"],[0.5555555555555556,\"#d8576b\"],[0.6666666666666666,\"#ed7953\"],[0.7777777777777778,\"#fb9f3a\"],[0.8888888888888888,\"#fdca26\"],[1.0,\"#f0f921\"]],\"type\":\"heatmapgl\"}],\"heatmap\":[{\"colorbar\":{\"outlinewidth\":0,\"ticks\":\"\"},\"colorscale\":[[0.0,\"#0d0887\"],[0.1111111111111111,\"#46039f\"],[0.2222222222222222,\"#7201a8\"],[0.3333333333333333,\"#9c179e\"],[0.4444444444444444,\"#bd3786\"],[0.5555555555555556,\"#d8576b\"],[0.6666666666666666,\"#ed7953\"],[0.7777777777777778,\"#fb9f3a\"],[0.8888888888888888,\"#fdca26\"],[1.0,\"#f0f921\"]],\"type\":\"heatmap\"}],\"histogram2dcontour\":[{\"colorbar\":{\"outlinewidth\":0,\"ticks\":\"\"},\"colorscale\":[[0.0,\"#0d0887\"],[0.1111111111111111,\"#46039f\"],[0.2222222222222222,\"#7201a8\"],[0.3333333333333333,\"#9c179e\"],[0.4444444444444444,\"#bd3786\"],[0.5555555555555556,\"#d8576b\"],[0.6666666666666666,\"#ed7953\"],[0.7777777777777778,\"#fb9f3a\"],[0.8888888888888888,\"#fdca26\"],[1.0,\"#f0f921\"]],\"type\":\"histogram2dcontour\"}],\"histogram2d\":[{\"colorbar\":{\"outlinewidth\":0,\"ticks\":\"\"},\"colorscale\":[[0.0,\"#0d0887\"],[0.1111111111111111,\"#46039f\"],[0.2222222222222222,\"#7201a8\"],[0.3333333333333333,\"#9c179e\"],[0.4444444444444444,\"#bd3786\"],[0.5555555555555556,\"#d8576b\"],[0.6666666666666666,\"#ed7953\"],[0.7777777777777778,\"#fb9f3a\"],[0.8888888888888888,\"#fdca26\"],[1.0,\"#f0f921\"]],\"type\":\"histogram2d\"}],\"histogram\":[{\"marker\":{\"pattern\":{\"fillmode\":\"overlay\",\"size\":10,\"solidity\":0.2}},\"type\":\"histogram\"}],\"mesh3d\":[{\"colorbar\":{\"outlinewidth\":0,\"ticks\":\"\"},\"type\":\"mesh3d\"}],\"parcoords\":[{\"line\":{\"colorbar\":{\"outlinewidth\":0,\"ticks\":\"\"}},\"type\":\"parcoords\"}],\"pie\":[{\"automargin\":true,\"type\":\"pie\"}],\"scatter3d\":[{\"line\":{\"colorbar\":{\"outlinewidth\":0,\"ticks\":\"\"}},\"marker\":{\"colorbar\":{\"outlinewidth\":0,\"ticks\":\"\"}},\"type\":\"scatter3d\"}],\"scattercarpet\":[{\"marker\":{\"colorbar\":{\"outlinewidth\":0,\"ticks\":\"\"}},\"type\":\"scattercarpet\"}],\"scattergeo\":[{\"marker\":{\"colorbar\":{\"outlinewidth\":0,\"ticks\":\"\"}},\"type\":\"scattergeo\"}],\"scattergl\":[{\"marker\":{\"colorbar\":{\"outlinewidth\":0,\"ticks\":\"\"}},\"type\":\"scattergl\"}],\"scattermapbox\":[{\"marker\":{\"colorbar\":{\"outlinewidth\":0,\"ticks\":\"\"}},\"type\":\"scattermapbox\"}],\"scatterpolargl\":[{\"marker\":{\"colorbar\":{\"outlinewidth\":0,\"ticks\":\"\"}},\"type\":\"scatterpolargl\"}],\"scatterpolar\":[{\"marker\":{\"colorbar\":{\"outlinewidth\":0,\"ticks\":\"\"}},\"type\":\"scatterpolar\"}],\"scatter\":[{\"fillpattern\":{\"fillmode\":\"overlay\",\"size\":10,\"solidity\":0.2},\"type\":\"scatter\"}],\"scatterternary\":[{\"marker\":{\"colorbar\":{\"outlinewidth\":0,\"ticks\":\"\"}},\"type\":\"scatterternary\"}],\"surface\":[{\"colorbar\":{\"outlinewidth\":0,\"ticks\":\"\"},\"colorscale\":[[0.0,\"#0d0887\"],[0.1111111111111111,\"#46039f\"],[0.2222222222222222,\"#7201a8\"],[0.3333333333333333,\"#9c179e\"],[0.4444444444444444,\"#bd3786\"],[0.5555555555555556,\"#d8576b\"],[0.6666666666666666,\"#ed7953\"],[0.7777777777777778,\"#fb9f3a\"],[0.8888888888888888,\"#fdca26\"],[1.0,\"#f0f921\"]],\"type\":\"surface\"}],\"table\":[{\"cells\":{\"fill\":{\"color\":\"#EBF0F8\"},\"line\":{\"color\":\"white\"}},\"header\":{\"fill\":{\"color\":\"#C8D4E3\"},\"line\":{\"color\":\"white\"}},\"type\":\"table\"}]},\"layout\":{\"annotationdefaults\":{\"arrowcolor\":\"#2a3f5f\",\"arrowhead\":0,\"arrowwidth\":1},\"autotypenumbers\":\"strict\",\"coloraxis\":{\"colorbar\":{\"outlinewidth\":0,\"ticks\":\"\"}},\"colorscale\":{\"diverging\":[[0,\"#8e0152\"],[0.1,\"#c51b7d\"],[0.2,\"#de77ae\"],[0.3,\"#f1b6da\"],[0.4,\"#fde0ef\"],[0.5,\"#f7f7f7\"],[0.6,\"#e6f5d0\"],[0.7,\"#b8e186\"],[0.8,\"#7fbc41\"],[0.9,\"#4d9221\"],[1,\"#276419\"]],\"sequential\":[[0.0,\"#0d0887\"],[0.1111111111111111,\"#46039f\"],[0.2222222222222222,\"#7201a8\"],[0.3333333333333333,\"#9c179e\"],[0.4444444444444444,\"#bd3786\"],[0.5555555555555556,\"#d8576b\"],[0.6666666666666666,\"#ed7953\"],[0.7777777777777778,\"#fb9f3a\"],[0.8888888888888888,\"#fdca26\"],[1.0,\"#f0f921\"]],\"sequentialminus\":[[0.0,\"#0d0887\"],[0.1111111111111111,\"#46039f\"],[0.2222222222222222,\"#7201a8\"],[0.3333333333333333,\"#9c179e\"],[0.4444444444444444,\"#bd3786\"],[0.5555555555555556,\"#d8576b\"],[0.6666666666666666,\"#ed7953\"],[0.7777777777777778,\"#fb9f3a\"],[0.8888888888888888,\"#fdca26\"],[1.0,\"#f0f921\"]]},\"colorway\":[\"#636efa\",\"#EF553B\",\"#00cc96\",\"#ab63fa\",\"#FFA15A\",\"#19d3f3\",\"#FF6692\",\"#B6E880\",\"#FF97FF\",\"#FECB52\"],\"font\":{\"color\":\"#2a3f5f\"},\"geo\":{\"bgcolor\":\"white\",\"lakecolor\":\"white\",\"landcolor\":\"white\",\"showlakes\":true,\"showland\":true,\"subunitcolor\":\"#C8D4E3\"},\"hoverlabel\":{\"align\":\"left\"},\"hovermode\":\"closest\",\"mapbox\":{\"style\":\"light\"},\"paper_bgcolor\":\"white\",\"plot_bgcolor\":\"white\",\"polar\":{\"angularaxis\":{\"gridcolor\":\"#EBF0F8\",\"linecolor\":\"#EBF0F8\",\"ticks\":\"\"},\"bgcolor\":\"white\",\"radialaxis\":{\"gridcolor\":\"#EBF0F8\",\"linecolor\":\"#EBF0F8\",\"ticks\":\"\"}},\"scene\":{\"xaxis\":{\"backgroundcolor\":\"white\",\"gridcolor\":\"#DFE8F3\",\"gridwidth\":2,\"linecolor\":\"#EBF0F8\",\"showbackground\":true,\"ticks\":\"\",\"zerolinecolor\":\"#EBF0F8\"},\"yaxis\":{\"backgroundcolor\":\"white\",\"gridcolor\":\"#DFE8F3\",\"gridwidth\":2,\"linecolor\":\"#EBF0F8\",\"showbackground\":true,\"ticks\":\"\",\"zerolinecolor\":\"#EBF0F8\"},\"zaxis\":{\"backgroundcolor\":\"white\",\"gridcolor\":\"#DFE8F3\",\"gridwidth\":2,\"linecolor\":\"#EBF0F8\",\"showbackground\":true,\"ticks\":\"\",\"zerolinecolor\":\"#EBF0F8\"}},\"shapedefaults\":{\"line\":{\"color\":\"#2a3f5f\"}},\"ternary\":{\"aaxis\":{\"gridcolor\":\"#DFE8F3\",\"linecolor\":\"#A2B1C6\",\"ticks\":\"\"},\"baxis\":{\"gridcolor\":\"#DFE8F3\",\"linecolor\":\"#A2B1C6\",\"ticks\":\"\"},\"bgcolor\":\"white\",\"caxis\":{\"gridcolor\":\"#DFE8F3\",\"linecolor\":\"#A2B1C6\",\"ticks\":\"\"}},\"title\":{\"x\":0.05},\"xaxis\":{\"automargin\":true,\"gridcolor\":\"#EBF0F8\",\"linecolor\":\"#EBF0F8\",\"ticks\":\"\",\"title\":{\"standoff\":15},\"zerolinecolor\":\"#EBF0F8\",\"zerolinewidth\":2},\"yaxis\":{\"automargin\":true,\"gridcolor\":\"#EBF0F8\",\"linecolor\":\"#EBF0F8\",\"ticks\":\"\",\"title\":{\"standoff\":15},\"zerolinecolor\":\"#EBF0F8\",\"zerolinewidth\":2}}},\"legend\":{\"tracegroupgap\":0,\"title\":{\"text\":\"\\u003cb\\u003eEstados\\u003c\\u002fb\\u003e\"},\"orientation\":\"v\",\"yanchor\":\"middle\",\"y\":0.5,\"xanchor\":\"left\",\"x\":1.05},\"title\":{\"text\":\"\\u003cb\\u003eDistribucion de estado de Clientes\\u003c\\u002fb\\u003e\"},\"annotations\":[{\"align\":\"left\",\"bgcolor\":\"white\",\"bordercolor\":\"green\",\"borderwidth\":1,\"showarrow\":false,\"text\":\"\\u003cb\\u003eESTADISTICAS\\u003c\\u002fb\\u003e\\u003cbr\\u003eClientes Activos: 5174\\u003cbr\\u003eClientes de Baja: 1869\\u003cbr\\u003eTotal Clientes: 7043\",\"x\":1.1,\"xref\":\"paper\",\"y\":0.9,\"yref\":\"paper\"}],\"font\":{\"family\":\"firacode\"},\"margin\":{\"l\":50,\"r\":150}},                        {\"responsive\": true}                    ).then(function(){\n",
       "                            \n",
       "var gd = document.getElementById('2c224b5a-7ed5-491b-a208-5683d4b1da20');\n",
       "var x = new MutationObserver(function (mutations, observer) {{\n",
       "        var display = window.getComputedStyle(gd).display;\n",
       "        if (!display || display === 'none') {{\n",
       "            console.log([gd, 'removed!']);\n",
       "            Plotly.purge(gd);\n",
       "            observer.disconnect();\n",
       "        }}\n",
       "}});\n",
       "\n",
       "// Listen for the removal of the full notebook cells\n",
       "var notebookContainer = gd.closest('#notebook-container');\n",
       "if (notebookContainer) {{\n",
       "    x.observe(notebookContainer, {childList: true});\n",
       "}}\n",
       "\n",
       "// Listen for the clearing of the current output cell\n",
       "var outputEl = gd.closest('.output');\n",
       "if (outputEl) {{\n",
       "    x.observe(outputEl, {childList: true});\n",
       "}}\n",
       "\n",
       "                        })                };                });            </script>        </div>"
      ]
     },
     "metadata": {},
     "output_type": "display_data"
    }
   ],
   "source": [
    "\n",
    "fig = px.pie(\n",
    "    df_summary,\n",
    "    values='Clientes',\n",
    "    names='Estado',\n",
    "    color='Estado',\n",
    "    color_discrete_map={\n",
    "        'Activo': '#2A5CAA',  \n",
    "        'Baja': '#D62728'     \n",
    "    },\n",
    "    hole=0.3,\n",
    "    title='<b>Distribucion de estado de Clientes</b>',\n",
    "    template='plotly_white'\n",
    ")\n",
    "\n",
    "\n",
    "fig.update_traces(\n",
    "    textinfo='percent',\n",
    "    textposition='inside',\n",
    "    marker=dict(line=dict(color='white', width=2)),\n",
    "    pull=[0.05, 0],\n",
    "    rotation=45\n",
    ")\n",
    "\n",
    "\n",
    "fig.add_annotation(\n",
    "    text=\"<b>ESTADISTICAS</b><br>\"\n",
    "         f\"Clientes Activos: {df_summary[df_summary['Estado']=='Activo']['Clientes'].values[0]}<br>\"\n",
    "         f\"Clientes de Baja: {df_summary[df_summary['Estado']=='Baja']['Clientes'].values[0]}<br>\"\n",
    "         f\"Total Clientes: {df_summary['Clientes'].sum()}\",\n",
    "    align='left',\n",
    "    showarrow=False,\n",
    "    xref='paper',\n",
    "    yref='paper',\n",
    "    x=1.1,\n",
    "    y=0.9,\n",
    "    bordercolor='green',\n",
    "    borderwidth=1,\n",
    "    bgcolor='white'\n",
    ")\n",
    "\n",
    "\n",
    "fig.update_layout(\n",
    "    legend=dict(\n",
    "        title='<b>Estados</b>',\n",
    "        orientation='v',\n",
    "        yanchor='middle',\n",
    "        y=0.5,\n",
    "        xanchor='left',\n",
    "        x=1.05\n",
    "    ),\n",
    "    font=dict(family=\"firacode\"),\n",
    "    margin=dict(l=50, r=150)\n",
    ")\n",
    "\n",
    "fig.show()"
   ]
  },
  {
   "cell_type": "code",
   "execution_count": null,
   "id": "8adbab5a-cde7-452f-b816-5e320514b022",
   "metadata": {},
   "outputs": [],
   "source": []
  }
 ],
 "metadata": {
  "kernelspec": {
   "display_name": "Python 3 (ipykernel)",
   "language": "python",
   "name": "python3"
  },
  "language_info": {
   "codemirror_mode": {
    "name": "ipython",
    "version": 3
   },
   "file_extension": ".py",
   "mimetype": "text/x-python",
   "name": "python",
   "nbconvert_exporter": "python",
   "pygments_lexer": "ipython3",
   "version": "3.12.7"
  }
 },
 "nbformat": 4,
 "nbformat_minor": 5
}
